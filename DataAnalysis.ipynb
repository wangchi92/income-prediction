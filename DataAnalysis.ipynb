{
 "cells": [
  {
   "cell_type": "code",
   "execution_count": 101,
   "metadata": {},
   "outputs": [],
   "source": [
    "# imports\n",
    "\n",
    "# data manipulation\n",
    "import pandas as pd\n",
    "import numpy as np\n",
    "\n",
    "# visualiation\n",
    "import seaborn as sb\n",
    "import matplotlib.pyplot as plt\n",
    "%matplotlib inline\n",
    "\n",
    "# feature engineering\n",
    "from sklearn.preprocessing import StandardScaler\n",
    "\n",
    "# model training\n",
    "from sklearn.model_selection import train_test_split\n",
    "from sklearn.model_selection import GridSearchCV\n",
    "\n",
    "# model evaluation\n",
    "from sklearn.metrics import confusion_matrix\n",
    "from sklearn.metrics import f1_score\n",
    "from sklearn.metrics import accuracy_score\n",
    "\n",
    "# classifiers\n",
    "from sklearn.discriminant_analysis import LinearDiscriminantAnalysis\n",
    "from sklearn.naive_bayes import GaussianNB\n",
    "from sklearn.svm import SVC\n",
    "\n",
    "from sklearn.neighbors import KNeighborsClassifier # KNN\n",
    "from sklearn.linear_model import LogisticRegression # logistic regression\n",
    "from sklearn.tree import DecisionTreeClassifier # decision tree\n",
    "from sklearn.ensemble import RandomForestClassifier # random forest\n",
    "from sklearn.ensemble import GradientBoostingClassifier # gradient boosting"
   ]
  },
  {
   "cell_type": "code",
   "execution_count": 3,
   "metadata": {},
   "outputs": [],
   "source": [
    "# load data\n",
    "train_file = './data/train.csv'\n",
    "train_data = pd.read_csv(train_file)\n",
    "train_data = pd.DataFrame(data=train_data)\n",
    "\n",
    "test_file = './data/test.csv'\n",
    "test_data = pd.read_csv(test_file)\n",
    "test_data = pd.DataFrame(data=test_data)\n",
    "\n",
    "test_ground_truths_file = './test_ground_truths.csv'\n",
    "test_ground_truths = pd.read_csv(test_ground_truths_file)\n",
    "test_ground_truths = pd.DataFrame(data=test_ground_truths)\n",
    "\n",
    "test_data['exceeds50K'] = test_ground_truths"
   ]
  },
  {
   "cell_type": "code",
   "execution_count": 4,
   "metadata": {},
   "outputs": [
    {
     "data": {
      "text/plain": [
       "Text(0, 0.5, 'Number of samples')"
      ]
     },
     "execution_count": 4,
     "metadata": {},
     "output_type": "execute_result"
    },
    {
     "data": {
      "image/png": "[encoded data removed]",
      "text/plain": [
       "<Figure size 1152x576 with 1 Axes>"
      ]
     },
     "metadata": {
      "needs_background": "light"
     },
     "output_type": "display_data"
    }
   ],
   "source": [
    "# Age Distribution\n",
    "#age_counts_binned = pd.cut(train_data['age'], bins=10, include_lowest=True)\n",
    "\n",
    "age_counts_graph = train_data['age'].value_counts(sort=False).sort_index().plot(kind='bar', title='Age Distribution',  figsize=(16,8))\n",
    "age_counts_graph.set_xlabel(\"Age\")\n",
    "age_counts_graph.set_ylabel(\"Number of samples\")"
   ]
  },
  {
   "cell_type": "code",
   "execution_count": 5,
   "metadata": {},
   "outputs": [
    {
     "name": "stdout",
     "output_type": "stream",
     "text": [
      "Percentage of missing work class data = 5.70%\n",
      "Percentage of missing occupation data = 5.73%\n",
      "Percentage of missing native country data = 1.68%\n",
      "Percentage of missing data = 7.32%\n",
      "Percentage of remaining cleaned data = 92.68%\n",
      "Percentage of missing work class data = 5.76%\n",
      "Percentage of missing occupation data = 5.77%\n",
      "Percentage of missing native country data = 1.83%\n",
      "Percentage of missing data = 7.50%\n",
      "Percentage of remaining cleaned data = 92.50%\n"
     ]
    }
   ],
   "source": [
    "# Remove records with missing data (\" ?\") - CANT USE THIS BECAUSE TEST DATA ALSO HAS \" ?\" VALUES\n",
    "def cleanData(data):\n",
    "    # workclass\n",
    "    missing_data_workclass = data[data.workclass == ' ?']\n",
    "    print(\"Percentage of missing work class data = \" + \"{:.2f}\".format(missing_data_workclass.shape[0] / data.shape[0] * 100) + \"%\" )\n",
    "\n",
    "    # occupation\n",
    "    missing_data_occupation = data[data.occupation == ' ?']\n",
    "    print(\"Percentage of missing occupation data = \" + \"{:.2f}\".format(missing_data_occupation.shape[0] / data.shape[0] * 100) + \"%\" )\n",
    "\n",
    "    # native-country\n",
    "    missing_data_native_country = data[data['native-country'] == ' ?']\n",
    "    print(\"Percentage of missing native country data = \" + \"{:.2f}\".format(missing_data_native_country.shape[0] / data.shape[0] * 100) + \"%\" )\n",
    "\n",
    "    # all\n",
    "    missing_data = data[(data['workclass'] == ' ?') | (data['occupation'] == ' ?') | (data['native-country'] == ' ?')]\n",
    "    print(\"Percentage of missing data = \" + \"{:.2f}\".format(missing_data.shape[0] / data.shape[0] * 100) + \"%\" )\n",
    "\n",
    "    # Cleaned data\n",
    "\n",
    "    cleaned_data = data[(data['workclass'] != ' ?') & (data['occupation'] != ' ?') & (data['native-country'] != ' ?')]\n",
    "    print(\"Percentage of remaining cleaned data = \" + \"{:.2f}\".format(cleaned_data.shape[0] / data.shape[0] * 100) + \"%\" )\n",
    "    \n",
    "    return cleaned_data\n",
    "\n",
    "cleaned_train_data = cleanData(train_data)\n",
    "cleaned_test_data = cleanData(test_data)"
   ]
  },
  {
   "cell_type": "code",
   "execution_count": 122,
   "metadata": {},
   "outputs": [
    {
     "name": "stdout",
     "output_type": "stream",
     "text": [
      "(24421, 4)\n",
      "(24421, 4)\n"
     ]
    }
   ],
   "source": [
    "# categorical\n",
    "def preprocess(data):\n",
    "    preprocessed_data = data.copy()\n",
    "    \n",
    "    # too many categories, drop for now\n",
    "    preprocessed_data = preprocessed_data.drop(['native-country'], axis=1)\n",
    "    \n",
    "    #preprocessed_data.age = pd.qcut(preprocessed_data.age, 10, duplicates='drop')\n",
    "    #preprocessed_data['capital-gain'] = pd.cut(preprocessed_data['capital-gain'], bins=[-1,1,10000,100000,999999], duplicates='drop')\n",
    "    #preprocessed_data['capital-loss'] = pd.cut(preprocessed_data['capital-loss'], bins=[-1,1,999999], duplicates='drop')\n",
    "    #preprocessed_data['hours-per-week'] = pd.qcut(preprocessed_data['hours-per-week'], 5, duplicates='drop')\n",
    "    preprocessed_data = preprocessed_data.drop(['education'], axis=1)\n",
    "    preprocessed_data = pd.get_dummies(preprocessed_data)\n",
    "    \n",
    "    return preprocessed_data\n",
    "\n",
    "def getNumericalColumns(data):\n",
    "    numerical_columns = data[['capital-gain', 'capital-loss', 'education-num', 'age', 'exceeds50K']]\n",
    "    return numerical_columns\n",
    "\n",
    "#preprocessed_train_data = preprocess(train_data)\n",
    "#preprocessed_test_data = preprocess(test_data)\n",
    "\n",
    "preprocessed_train_data = getNumericalColumns(train_data)\n",
    "preprocessed_test_data = getNumericalColumns(test_data)\n",
    "\n",
    "x_train = preprocessed_train_data.drop('exceeds50K', axis=1)\n",
    "y_train = preprocessed_train_data['exceeds50K']\n",
    "#normalization needs more effort\n",
    "x_train = StandardScaler().fit_transform(x_train)\n",
    "#netherlands = np.zeros(x_train.shape[0])\n",
    "#x_train['native-country_ Holand-Netherlands'] = netherlands\n",
    "print(x_train.shape)\n",
    "\n",
    "#normalization needs more effort\n",
    "x_test = preprocessed_test_data.drop('exceeds50K', axis=1)\n",
    "y_test = preprocessed_test_data['exceeds50K']\n",
    "x_test = StandardScaler().fit_transform(x_test)\n",
    "print(x_test.shape)"
   ]
  },
  {
   "cell_type": "code",
   "execution_count": 123,
   "metadata": {},
   "outputs": [
    {
     "name": "stdout",
     "output_type": "stream",
     "text": [
      "79.04\n",
      "81.44\n"
     ]
    },
    {
     "ename": "AttributeError",
     "evalue": "'numpy.ndarray' object has no attribute 'columns'",
     "output_type": "error",
     "traceback": [
      "\u001b[1;31m---------------------------------------------------------------------------\u001b[0m",
      "\u001b[1;31mAttributeError\u001b[0m                            Traceback (most recent call last)",
      "\u001b[1;32m<ipython-input-123-4aadf0429dd3>\u001b[0m in \u001b[0;36m<module>\u001b[1;34m\u001b[0m\n\u001b[0;32m      6\u001b[0m \u001b[0mprint\u001b[0m\u001b[1;33m(\u001b[0m\u001b[0mround\u001b[0m\u001b[1;33m(\u001b[0m\u001b[0maccuracy_score\u001b[0m\u001b[1;33m(\u001b[0m\u001b[0my_test\u001b[0m\u001b[1;33m,\u001b[0m \u001b[0my_pred\u001b[0m\u001b[1;33m)\u001b[0m \u001b[1;33m*\u001b[0m \u001b[1;36m100\u001b[0m\u001b[1;33m,\u001b[0m \u001b[1;36m2\u001b[0m\u001b[1;33m)\u001b[0m\u001b[1;33m)\u001b[0m\u001b[1;33m\u001b[0m\u001b[1;33m\u001b[0m\u001b[0m\n\u001b[0;32m      7\u001b[0m \u001b[1;33m\u001b[0m\u001b[0m\n\u001b[1;32m----> 8\u001b[1;33m \u001b[0mpredictors\u001b[0m \u001b[1;33m=\u001b[0m \u001b[1;33m[\u001b[0m\u001b[0mx\u001b[0m \u001b[1;32mfor\u001b[0m \u001b[0mx\u001b[0m \u001b[1;32min\u001b[0m \u001b[0mx_train\u001b[0m\u001b[1;33m.\u001b[0m\u001b[0mcolumns\u001b[0m \u001b[1;32mif\u001b[0m \u001b[0mx\u001b[0m \u001b[1;32mnot\u001b[0m \u001b[1;32min\u001b[0m \u001b[1;33m[\u001b[0m\u001b[1;34m'exceeds50K'\u001b[0m\u001b[1;33m]\u001b[0m\u001b[1;33m]\u001b[0m\u001b[1;33m\u001b[0m\u001b[1;33m\u001b[0m\u001b[0m\n\u001b[0m\u001b[0;32m      9\u001b[0m \u001b[0mfeat_imp\u001b[0m \u001b[1;33m=\u001b[0m \u001b[0mpd\u001b[0m\u001b[1;33m.\u001b[0m\u001b[0mSeries\u001b[0m\u001b[1;33m(\u001b[0m\u001b[0mmodel\u001b[0m\u001b[1;33m.\u001b[0m\u001b[0mfeature_importances_\u001b[0m\u001b[1;33m,\u001b[0m \u001b[0mpredictors\u001b[0m\u001b[1;33m)\u001b[0m\u001b[1;33m.\u001b[0m\u001b[0msort_values\u001b[0m\u001b[1;33m(\u001b[0m\u001b[0mascending\u001b[0m\u001b[1;33m=\u001b[0m\u001b[1;32mFalse\u001b[0m\u001b[1;33m)\u001b[0m\u001b[1;33m\u001b[0m\u001b[1;33m\u001b[0m\u001b[0m\n\u001b[0;32m     10\u001b[0m \u001b[0mfeat_imp\u001b[0m\u001b[1;33m.\u001b[0m\u001b[0mplot\u001b[0m\u001b[1;33m(\u001b[0m\u001b[0mkind\u001b[0m\u001b[1;33m=\u001b[0m\u001b[1;34m'bar'\u001b[0m\u001b[1;33m,\u001b[0m \u001b[0mtitle\u001b[0m\u001b[1;33m=\u001b[0m\u001b[1;34m'Feature Importances'\u001b[0m\u001b[1;33m,\u001b[0m \u001b[0mfigsize\u001b[0m\u001b[1;33m=\u001b[0m\u001b[1;33m(\u001b[0m\u001b[1;36m16\u001b[0m\u001b[1;33m,\u001b[0m\u001b[1;36m5\u001b[0m\u001b[1;33m)\u001b[0m\u001b[1;33m)\u001b[0m\u001b[1;33m\u001b[0m\u001b[1;33m\u001b[0m\u001b[0m\n",
      "\u001b[1;31mAttributeError\u001b[0m: 'numpy.ndarray' object has no attribute 'columns'"
     ]
    }
   ],
   "source": [
    "# CHECK FEATURE IMPORTANCE\n",
    "classifier = GradientBoostingClassifier()\n",
    "model = classifier.fit(x_train, y_train)\n",
    "y_pred = model.predict(x_test)\n",
    "print(round(f1_score(y_test, y_pred, average='weighted') * 100, 2))\n",
    "print(round(accuracy_score(y_test, y_pred) * 100, 2))\n",
    "\n",
    "predictors = [x for x in x_train.columns if x not in ['exceeds50K']]\n",
    "feat_imp = pd.Series(model.feature_importances_, predictors).sort_values(ascending=False)\n",
    "feat_imp.plot(kind='bar', title='Feature Importances', figsize=(16,5))\n",
    "plt.ylabel('Feature Importance Score')"
   ]
  },
  {
   "cell_type": "code",
   "execution_count": null,
   "metadata": {},
   "outputs": [],
   "source": []
  }
 ],
 "metadata": {
  "kernelspec": {
   "display_name": "Python 3",
   "language": "python",
   "name": "python3"
  },
  "language_info": {
   "codemirror_mode": {
    "name": "ipython",
    "version": 3
   },
   "file_extension": ".py",
   "mimetype": "text/x-python",
   "name": "python",
   "nbconvert_exporter": "python",
   "pygments_lexer": "ipython3",
   "version": "3.7.4"
  }
 },
 "nbformat": 4,
 "nbformat_minor": 4
}
