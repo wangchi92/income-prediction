{
 "cells": [
  {
   "cell_type": "code",
   "execution_count": 1,
   "metadata": {},
   "outputs": [
    {
     "name": "stdout",
     "output_type": "stream",
     "text": [
      "Requirement already satisfied: lightgbm in z:\\users\\wayne\\anaconda3\\lib\\site-packages (2.3.1)\n",
      "Requirement already satisfied: optuna in z:\\users\\wayne\\anaconda3\\lib\\site-packages (1.3.0)\n",
      "Requirement already satisfied: scipy in z:\\users\\wayne\\anaconda3\\lib\\site-packages (from lightgbm) (1.3.1)\n",
      "Requirement already satisfied: numpy in z:\\users\\wayne\\anaconda3\\lib\\site-packages (from lightgbm) (1.16.5)\n",
      "Requirement already satisfied: scikit-learn in z:\\users\\wayne\\anaconda3\\lib\\site-packages (from lightgbm) (0.21.3)\n",
      "Requirement already satisfied: cliff in z:\\users\\wayne\\anaconda3\\lib\\site-packages (from optuna) (3.1.0)\n",
      "Requirement already satisfied: cmaes in z:\\users\\wayne\\anaconda3\\lib\\site-packages (from optuna) (0.5.0)\n",
      "Requirement already satisfied: sqlalchemy>=1.1.0 in z:\\users\\wayne\\anaconda3\\lib\\site-packages (from optuna) (1.3.9)\n",
      "Requirement already satisfied: alembic in z:\\users\\wayne\\anaconda3\\lib\\site-packages (from optuna) (1.4.2)\n",
      "Requirement already satisfied: tqdm in z:\\users\\wayne\\anaconda3\\lib\\site-packages (from optuna) (4.36.1)\n",
      "Requirement already satisfied: joblib in z:\\users\\wayne\\anaconda3\\lib\\site-packages (from optuna) (0.13.2)\n",
      "Requirement already satisfied: colorlog in z:\\users\\wayne\\anaconda3\\lib\\site-packages (from optuna) (4.1.0)\n",
      "Requirement already satisfied: PyYAML>=3.12 in z:\\users\\wayne\\anaconda3\\lib\\site-packages (from cliff->optuna) (5.1.2)\n",
      "Requirement already satisfied: stevedore>=1.20.0 in z:\\users\\wayne\\anaconda3\\lib\\site-packages (from cliff->optuna) (1.32.0)\n",
      "Requirement already satisfied: six>=1.10.0 in z:\\users\\wayne\\anaconda3\\lib\\site-packages (from cliff->optuna) (1.12.0)\n",
      "Requirement already satisfied: pbr!=2.1.0,>=2.0.0 in z:\\users\\wayne\\anaconda3\\lib\\site-packages (from cliff->optuna) (5.4.5)\n",
      "Requirement already satisfied: cmd2!=0.8.3,<0.9.0,>=0.8.0 in z:\\users\\wayne\\anaconda3\\lib\\site-packages (from cliff->optuna) (0.8.9)\n",
      "Requirement already satisfied: PrettyTable<0.8,>=0.7.2 in z:\\users\\wayne\\anaconda3\\lib\\site-packages (from cliff->optuna) (0.7.2)\n",
      "Requirement already satisfied: pyparsing>=2.1.0 in z:\\users\\wayne\\anaconda3\\lib\\site-packages (from cliff->optuna) (2.4.2)\n",
      "Requirement already satisfied: python-dateutil in z:\\users\\wayne\\anaconda3\\lib\\site-packages (from alembic->optuna) (2.8.0)\n",
      "Requirement already satisfied: Mako in z:\\users\\wayne\\anaconda3\\lib\\site-packages (from alembic->optuna) (1.1.2)\n",
      "Requirement already satisfied: python-editor>=0.3 in z:\\users\\wayne\\anaconda3\\lib\\site-packages (from alembic->optuna) (1.0.4)\n",
      "Requirement already satisfied: colorama; sys_platform == \"win32\" in z:\\users\\wayne\\anaconda3\\lib\\site-packages (from colorlog->optuna) (0.4.1)\n",
      "Requirement already satisfied: pyperclip in z:\\users\\wayne\\anaconda3\\lib\\site-packages (from cmd2!=0.8.3,<0.9.0,>=0.8.0->cliff->optuna) (1.8.0)\n",
      "Requirement already satisfied: pyreadline; sys_platform == \"win32\" in z:\\users\\wayne\\anaconda3\\lib\\site-packages (from cmd2!=0.8.3,<0.9.0,>=0.8.0->cliff->optuna) (2.1)\n",
      "Requirement already satisfied: MarkupSafe>=0.9.2 in z:\\users\\wayne\\anaconda3\\lib\\site-packages (from Mako->alembic->optuna) (1.1.1)\n"
     ]
    }
   ],
   "source": [
    "# install packages if not installed yet\n",
    "import sys\n",
    "!{sys.executable} -m pip install lightgbm optuna"
   ]
  },
  {
   "cell_type": "code",
   "execution_count": 18,
   "metadata": {},
   "outputs": [],
   "source": [
    "# imports\n",
    "\n",
    "# data manipulation\n",
    "import pandas as pd\n",
    "import numpy as np\n",
    "\n",
    "# model evaluation\n",
    "from sklearn.metrics import f1_score\n",
    "\n",
    "# lightgbm\n",
    "import lightgbm as lgb\n",
    "# optuna is the tuning automation tool\n",
    "import optuna\n",
    "import optuna.integration.lightgbm as optunalgb"
   ]
  },
  {
   "cell_type": "code",
   "execution_count": 3,
   "metadata": {},
   "outputs": [],
   "source": [
    "# load data\n",
    "train_file = './data/train.csv'\n",
    "train_data = pd.read_csv(train_file)\n",
    "train_data = pd.DataFrame(data=train_data)\n",
    "\n",
    "test_file = './data/test.csv'\n",
    "test_data = pd.read_csv(test_file)\n",
    "test_data = pd.DataFrame(data=test_data)\n",
    "\n",
    "test_ground_truths_file = './data/test_ground_truths.csv'\n",
    "test_ground_truths = pd.read_csv(test_ground_truths_file)\n",
    "test_ground_truths = pd.DataFrame(data=test_ground_truths)\n",
    "\n",
    "test_data['exceeds50K'] = test_ground_truths"
   ]
  },
  {
   "cell_type": "code",
   "execution_count": 4,
   "metadata": {},
   "outputs": [
    {
     "name": "stdout",
     "output_type": "stream",
     "text": [
      "   age  workclass  education-num  marital-status  occupation  relationship  \\\n",
      "0   30          0             10               4           0             3   \n",
      "1   60          4             13               0          10             1   \n",
      "2   52          0             10               2           0             0   \n",
      "3   37          4             13               2          12             0   \n",
      "4   63          4             10               2          12             0   \n",
      "\n",
      "   sex  capital-gain  capital-loss  hours-per-week  \n",
      "0    0             0             0              30  \n",
      "1    0             0             0              42  \n",
      "2    1             0             0              12  \n",
      "3    1             0             0              60  \n",
      "4    1          7298             0              48  \n"
     ]
    }
   ],
   "source": [
    "#prepare dataset\n",
    "def convertCategoricalValuesToInt(df, columns):\n",
    "    output = df.copy();\n",
    "    \n",
    "    output[columns] = output[columns].astype('category')\n",
    "    cat_columns = output.select_dtypes(['category']).columns\n",
    "    output[cat_columns] = output[cat_columns].apply(lambda x: x.cat.codes)\n",
    "    \n",
    "    return output;\n",
    "\n",
    "train_data_lgb = train_data.drop(['native-country', 'education', 'fnlwgt'], axis=1)\n",
    "test_data_lgb = test_data.drop(['native-country', 'education', 'fnlwgt'], axis=1)\n",
    "\n",
    "x_train = train_data_lgb.drop('exceeds50K', axis=1)\n",
    "y_train = train_data_lgb['exceeds50K']\n",
    "x_test = test_data_lgb.drop('exceeds50K', axis=1)\n",
    "y_test = test_data_lgb['exceeds50K']\n",
    "\n",
    "features = x_train.columns\n",
    "categorical_features = ['workclass', 'marital-status', 'occupation', 'relationship', 'sex']\n",
    "categorical_features_numbered = [c for c, col in enumerate(features) if col in categorical_features]\n",
    "\n",
    "x_train = convertCategoricalValuesToInt(x_train, categorical_features)\n",
    "x_test = convertCategoricalValuesToInt(x_test, categorical_features)\n",
    "print(x_train.head())\n",
    "\n",
    "x_train = optunalgb.Dataset(x_train, label=y_train, categorical_feature=categorical_features_numbered, free_raw_data=False)\n",
    "x_test = optunalgb.Dataset(x_test, label=y_test, free_raw_data=False)\n",
    "\n",
    "def lgb_f1_score(y_hat, data):\n",
    "    y_true = data.get_label()\n",
    "    y_hat = np.round(y_hat) # scikits f1 doesn't like probabilities\n",
    "    return 'f1', round(f1_score(y_true, y_hat, average = 'weighted') * 100, 2), True"
   ]
  },
  {
   "cell_type": "code",
   "execution_count": 22,
   "metadata": {},
   "outputs": [
    {
     "name": "stderr",
     "output_type": "stream",
     "text": [
      "\n",
      "\n",
      "\n",
      "\n",
      "\n",
      "\n",
      "  0%|                                                                                            | 0/7 [00:00<?, ?it/s]\n",
      "\n",
      "\n",
      "\n",
      "\n",
      "\n",
      "tune_feature_fraction, val_score: inf:   0%|                                                     | 0/7 [00:00<?, ?it/s]"
     ]
    },
    {
     "name": "stdout",
     "output_type": "stream",
     "text": [
      "Training until validation scores don't improve for 200 rounds\n",
      "[500]\tvalid_0's f1: 86.59\n",
      "[1000]\tvalid_0's f1: 86.8\n",
      "Did not meet early stopping. Best iteration is:\n",
      "[956]\tvalid_0's f1: 86.82\n"
     ]
    },
    {
     "name": "stderr",
     "output_type": "stream",
     "text": [
      "\n",
      "\n",
      "\n",
      "\n",
      "\n",
      "\n",
      "tune_feature_fraction, val_score: 86.820000:   0%|                                               | 0/7 [00:15<?, ?it/s]\n",
      "\n",
      "\n",
      "\n",
      "\n",
      "\n",
      "tune_feature_fraction, val_score: 86.820000:  14%|#####5                                 | 1/7 [00:15<01:30, 15.16s/it][I 2020-04-26 19:58:11,708] Finished trial#0 with value: 86.82 with parameters: {'feature_fraction': 0.4}. Best is trial#0 with value: 86.82.\n",
      "\n",
      "\n",
      "\n",
      "\n",
      "\n",
      "\n",
      "tune_feature_fraction, val_score: 86.820000:  14%|#####5                                 | 1/7 [00:15<01:30, 15.16s/it]"
     ]
    },
    {
     "name": "stdout",
     "output_type": "stream",
     "text": [
      "Training until validation scores don't improve for 200 rounds\n",
      "[500]\tvalid_0's f1: 86.55\n",
      "[1000]\tvalid_0's f1: 86.81\n",
      "Did not meet early stopping. Best iteration is:\n",
      "[942]\tvalid_0's f1: 86.81\n"
     ]
    },
    {
     "name": "stderr",
     "output_type": "stream",
     "text": [
      "\n",
      "\n",
      "\n",
      "\n",
      "\n",
      "\n",
      "tune_feature_fraction, val_score: 86.810000:  14%|#####5                                 | 1/7 [00:35<01:30, 15.16s/it]\n",
      "\n",
      "\n",
      "\n",
      "\n",
      "\n",
      "tune_feature_fraction, val_score: 86.810000:  29%|###########1                           | 2/7 [00:35<01:23, 16.77s/it][I 2020-04-26 19:58:32,221] Finished trial#1 with value: 86.81 with parameters: {'feature_fraction': 0.5}. Best is trial#1 with value: 86.81.\n",
      "\n",
      "\n",
      "\n",
      "\n",
      "\n",
      "\n",
      "tune_feature_fraction, val_score: 86.810000:  29%|###########1                           | 2/7 [00:35<01:23, 16.77s/it]"
     ]
    },
    {
     "name": "stdout",
     "output_type": "stream",
     "text": [
      "Training until validation scores don't improve for 200 rounds\n",
      "[500]\tvalid_0's f1: 86.65\n",
      "[1000]\tvalid_0's f1: 86.8\n",
      "Did not meet early stopping. Best iteration is:\n",
      "[944]\tvalid_0's f1: 86.84\n"
     ]
    },
    {
     "name": "stderr",
     "output_type": "stream",
     "text": [
      "\n",
      "\n",
      "\n",
      "\n",
      "\n",
      "\n",
      "tune_feature_fraction, val_score: 86.810000:  29%|###########1                           | 2/7 [00:50<01:23, 16.77s/it]\n",
      "\n",
      "\n",
      "\n",
      "\n",
      "\n",
      "tune_feature_fraction, val_score: 86.810000:  43%|################7                      | 3/7 [00:50<01:05, 16.32s/it][I 2020-04-26 19:58:47,516] Finished trial#2 with value: 86.84 with parameters: {'feature_fraction': 0.6}. Best is trial#1 with value: 86.81.\n",
      "\n",
      "\n",
      "\n",
      "\n",
      "\n",
      "\n",
      "tune_feature_fraction, val_score: 86.810000:  43%|################7                      | 3/7 [00:51<01:05, 16.32s/it]"
     ]
    },
    {
     "name": "stdout",
     "output_type": "stream",
     "text": [
      "Training until validation scores don't improve for 200 rounds\n",
      "[500]\tvalid_0's f1: 86.61\n",
      "[1000]\tvalid_0's f1: 86.78\n",
      "Did not meet early stopping. Best iteration is:\n",
      "[955]\tvalid_0's f1: 86.78\n"
     ]
    },
    {
     "name": "stderr",
     "output_type": "stream",
     "text": [
      "\n",
      "\n",
      "\n",
      "\n",
      "\n",
      "\n",
      "tune_feature_fraction, val_score: 86.780000:  43%|################7                      | 3/7 [01:06<01:05, 16.32s/it]\n",
      "\n",
      "\n",
      "\n",
      "\n",
      "\n",
      "tune_feature_fraction, val_score: 86.780000:  57%|######################2                | 4/7 [01:06<00:48, 16.04s/it][I 2020-04-26 19:59:02,890] Finished trial#3 with value: 86.78 with parameters: {'feature_fraction': 0.7}. Best is trial#3 with value: 86.78.\n",
      "\n",
      "\n",
      "\n",
      "\n",
      "\n",
      "\n",
      "tune_feature_fraction, val_score: 86.780000:  57%|######################2                | 4/7 [01:06<00:48, 16.04s/it]"
     ]
    },
    {
     "name": "stdout",
     "output_type": "stream",
     "text": [
      "Training until validation scores don't improve for 200 rounds\n",
      "[500]\tvalid_0's f1: 86.61\n",
      "[1000]\tvalid_0's f1: 86.71\n",
      "Did not meet early stopping. Best iteration is:\n",
      "[809]\tvalid_0's f1: 86.75\n"
     ]
    },
    {
     "name": "stderr",
     "output_type": "stream",
     "text": [
      "\n",
      "\n",
      "\n",
      "\n",
      "\n",
      "\n",
      "tune_feature_fraction, val_score: 86.750000:  57%|######################2                | 4/7 [01:21<00:48, 16.04s/it]\n",
      "\n",
      "\n",
      "\n",
      "\n",
      "\n",
      "tune_feature_fraction, val_score: 86.750000:  71%|###########################8           | 5/7 [01:21<00:31, 15.86s/it][I 2020-04-26 19:59:18,329] Finished trial#4 with value: 86.75 with parameters: {'feature_fraction': 0.8}. Best is trial#4 with value: 86.75.\n",
      "\n",
      "\n",
      "\n",
      "\n",
      "\n",
      "\n",
      "tune_feature_fraction, val_score: 86.750000:  71%|###########################8           | 5/7 [01:21<00:31, 15.86s/it]"
     ]
    },
    {
     "name": "stdout",
     "output_type": "stream",
     "text": [
      "Training until validation scores don't improve for 200 rounds\n",
      "[500]\tvalid_0's f1: 86.61\n",
      "Early stopping, best iteration is:\n",
      "[768]\tvalid_0's f1: 86.74\n"
     ]
    },
    {
     "name": "stderr",
     "output_type": "stream",
     "text": [
      "\n",
      "\n",
      "\n",
      "\n",
      "\n",
      "\n",
      "tune_feature_fraction, val_score: 86.740000:  71%|###########################8           | 5/7 [01:36<00:31, 15.86s/it]\n",
      "\n",
      "\n",
      "\n",
      "\n",
      "\n",
      "tune_feature_fraction, val_score: 86.740000:  86%|#################################4     | 6/7 [01:36<00:15, 15.58s/it][I 2020-04-26 19:59:33,260] Finished trial#5 with value: 86.74 with parameters: {'feature_fraction': 0.8999999999999999}. Best is trial#5 with value: 86.74.\n",
      "\n",
      "\n",
      "\n",
      "\n",
      "\n",
      "\n",
      "tune_feature_fraction, val_score: 86.740000:  86%|#################################4     | 6/7 [01:36<00:15, 15.58s/it]"
     ]
    },
    {
     "name": "stdout",
     "output_type": "stream",
     "text": [
      "Training until validation scores don't improve for 200 rounds\n",
      "[500]\tvalid_0's f1: 86.52\n",
      "Early stopping, best iteration is:\n",
      "[592]\tvalid_0's f1: 86.55\n"
     ]
    },
    {
     "name": "stderr",
     "output_type": "stream",
     "text": [
      "\n",
      "\n",
      "\n",
      "\n",
      "\n",
      "\n",
      "tune_feature_fraction, val_score: 86.550000:  86%|#################################4     | 6/7 [01:48<00:15, 15.58s/it]\n",
      "\n",
      "\n",
      "\n",
      "\n",
      "\n",
      "tune_feature_fraction, val_score: 86.550000: 100%|#######################################| 7/7 [01:48<00:00, 14.57s/it][I 2020-04-26 19:59:45,461] Finished trial#6 with value: 86.55 with parameters: {'feature_fraction': 1.0}. Best is trial#6 with value: 86.55.\n",
      "tune_feature_fraction, val_score: 86.550000: 100%|#######################################| 7/7 [01:49<00:00, 15.57s/it]\n",
      "\n",
      "\n",
      "\n",
      "\n",
      "\n",
      "\n",
      "  0%|                                                                                           | 0/20 [00:00<?, ?it/s]\n",
      "\n",
      "\n",
      "\n",
      "\n",
      "\n",
      "tune_num_leaves, val_score: 86.550000:   0%|                                                    | 0/20 [00:00<?, ?it/s]"
     ]
    },
    {
     "name": "stdout",
     "output_type": "stream",
     "text": [
      "Training until validation scores don't improve for 200 rounds\n",
      "[500]\tvalid_0's f1: 85.81\n",
      "[1000]\tvalid_0's f1: 86.3\n",
      "Did not meet early stopping. Best iteration is:\n",
      "[989]\tvalid_0's f1: 86.31\n"
     ]
    },
    {
     "name": "stderr",
     "output_type": "stream",
     "text": [
      "\n",
      "\n",
      "\n",
      "\n",
      "\n",
      "\n",
      "tune_num_leaves, val_score: 86.310000:   0%|                                                    | 0/20 [00:13<?, ?it/s]\n",
      "\n",
      "\n",
      "\n",
      "\n",
      "\n",
      "tune_num_leaves, val_score: 86.310000:   5%|##2                                         | 1/20 [00:13<04:25, 13.96s/it][I 2020-04-26 19:59:59,514] Finished trial#0 with value: 86.31 with parameters: {'num_leaves': 9}. Best is trial#0 with value: 86.31.\n",
      "\n",
      "\n",
      "\n",
      "\n",
      "\n",
      "\n",
      "tune_num_leaves, val_score: 86.310000:   5%|##2                                         | 1/20 [00:14<04:25, 13.96s/it]"
     ]
    },
    {
     "name": "stdout",
     "output_type": "stream",
     "text": [
      "Training until validation scores don't improve for 200 rounds\n",
      "[500]\tvalid_0's f1: 85.05\n",
      "[1000]\tvalid_0's f1: 85.48\n",
      "Did not meet early stopping. Best iteration is:\n",
      "[947]\tvalid_0's f1: 85.48\n"
     ]
    },
    {
     "name": "stderr",
     "output_type": "stream",
     "text": [
      "\n",
      "\n",
      "\n",
      "\n",
      "\n",
      "\n",
      "tune_num_leaves, val_score: 85.480000:   5%|##2                                         | 1/20 [00:30<04:25, 13.96s/it]\n",
      "\n",
      "\n",
      "\n",
      "\n",
      "\n",
      "tune_num_leaves, val_score: 85.480000:  10%|####4                                       | 2/20 [00:30<04:26, 14.83s/it][I 2020-04-26 20:00:16,379] Finished trial#1 with value: 85.48 with parameters: {'num_leaves': 4}. Best is trial#1 with value: 85.48.\n",
      "\n",
      "\n",
      "\n",
      "\n",
      "\n",
      "\n",
      "tune_num_leaves, val_score: 85.480000:  10%|####4                                       | 2/20 [00:30<04:26, 14.83s/it]"
     ]
    },
    {
     "name": "stdout",
     "output_type": "stream",
     "text": [
      "Training until validation scores don't improve for 200 rounds\n",
      "[500]\tvalid_0's f1: 86.44\n",
      "[1000]\tvalid_0's f1: 86.56\n",
      "Did not meet early stopping. Best iteration is:\n",
      "[958]\tvalid_0's f1: 86.58\n"
     ]
    },
    {
     "name": "stderr",
     "output_type": "stream",
     "text": [
      "\n",
      "\n",
      "\n",
      "\n",
      "\n",
      "\n",
      "tune_num_leaves, val_score: 85.480000:  10%|####4                                       | 2/20 [00:48<04:26, 14.83s/it]\n",
      "\n",
      "\n",
      "\n",
      "\n",
      "\n",
      "tune_num_leaves, val_score: 85.480000:  15%|######6                                     | 3/20 [00:48<04:27, 15.75s/it][I 2020-04-26 20:00:34,259] Finished trial#2 with value: 86.58 with parameters: {'num_leaves': 79}. Best is trial#1 with value: 85.48.\n",
      "\n",
      "\n",
      "\n",
      "\n",
      "\n",
      "\n",
      "tune_num_leaves, val_score: 85.480000:  15%|######6                                     | 3/20 [00:48<04:27, 15.75s/it]"
     ]
    },
    {
     "name": "stdout",
     "output_type": "stream",
     "text": [
      "Training until validation scores don't improve for 200 rounds\n",
      "[500]\tvalid_0's f1: 86.45\n",
      "[1000]\tvalid_0's f1: 86.58\n",
      "Did not meet early stopping. Best iteration is:\n",
      "[946]\tvalid_0's f1: 86.61\n"
     ]
    },
    {
     "name": "stderr",
     "output_type": "stream",
     "text": [
      "\n",
      "\n",
      "\n",
      "\n",
      "\n",
      "\n",
      "tune_num_leaves, val_score: 85.480000:  15%|######6                                     | 3/20 [01:07<04:27, 15.75s/it]\n",
      "\n",
      "\n",
      "\n",
      "\n",
      "\n",
      "tune_num_leaves, val_score: 85.480000:  20%|########8                                   | 4/20 [01:07<04:24, 16.51s/it][I 2020-04-26 20:00:52,554] Finished trial#3 with value: 86.61 with parameters: {'num_leaves': 90}. Best is trial#1 with value: 85.48.\n",
      "\n",
      "\n",
      "\n",
      "\n",
      "\n",
      "\n",
      "tune_num_leaves, val_score: 85.480000:  20%|########8                                   | 4/20 [01:07<04:24, 16.51s/it]"
     ]
    },
    {
     "name": "stdout",
     "output_type": "stream",
     "text": [
      "Training until validation scores don't improve for 200 rounds\n",
      "[500]\tvalid_0's f1: 86.33\n",
      "Early stopping, best iteration is:\n",
      "[625]\tvalid_0's f1: 86.44\n"
     ]
    },
    {
     "name": "stderr",
     "output_type": "stream",
     "text": [
      "\n",
      "\n",
      "\n",
      "\n",
      "\n",
      "\n",
      "tune_num_leaves, val_score: 85.480000:  20%|########8                                   | 4/20 [01:23<04:24, 16.51s/it]\n",
      "\n",
      "\n",
      "\n",
      "\n",
      "\n",
      "tune_num_leaves, val_score: 85.480000:  25%|###########                                 | 5/20 [01:23<04:07, 16.53s/it][I 2020-04-26 20:01:09,131] Finished trial#4 with value: 86.44 with parameters: {'num_leaves': 129}. Best is trial#1 with value: 85.48.\n",
      "\n",
      "\n",
      "\n",
      "\n",
      "\n",
      "\n",
      "tune_num_leaves, val_score: 85.480000:  25%|###########                                 | 5/20 [01:23<04:07, 16.53s/it]"
     ]
    },
    {
     "name": "stdout",
     "output_type": "stream",
     "text": [
      "Training until validation scores don't improve for 200 rounds\n",
      "[500]\tvalid_0's f1: 86.3\n",
      "Early stopping, best iteration is:\n",
      "[520]\tvalid_0's f1: 86.39\n"
     ]
    },
    {
     "name": "stderr",
     "output_type": "stream",
     "text": [
      "\n",
      "\n",
      "\n",
      "\n",
      "\n",
      "\n",
      "tune_num_leaves, val_score: 85.480000:  25%|###########                                 | 5/20 [01:38<04:07, 16.53s/it]\n",
      "\n",
      "\n",
      "\n",
      "\n",
      "\n",
      "tune_num_leaves, val_score: 85.480000:  30%|#############2                              | 6/20 [01:38<03:45, 16.11s/it][I 2020-04-26 20:01:24,277] Finished trial#5 with value: 86.39 with parameters: {'num_leaves': 149}. Best is trial#1 with value: 85.48.\n",
      "\n",
      "\n",
      "\n",
      "\n",
      "\n",
      "\n",
      "tune_num_leaves, val_score: 85.480000:  30%|#############2                              | 6/20 [01:38<03:45, 16.11s/it]"
     ]
    },
    {
     "name": "stdout",
     "output_type": "stream",
     "text": [
      "Training until validation scores don't improve for 200 rounds\n",
      "[500]\tvalid_0's f1: 86.11\n",
      "Early stopping, best iteration is:\n",
      "[541]\tvalid_0's f1: 86.15\n"
     ]
    },
    {
     "name": "stderr",
     "output_type": "stream",
     "text": [
      "\n",
      "\n",
      "\n",
      "\n",
      "\n",
      "\n",
      "tune_num_leaves, val_score: 85.480000:  30%|#############2                              | 6/20 [01:56<03:45, 16.11s/it]\n",
      "\n",
      "\n",
      "\n",
      "\n",
      "\n",
      "tune_num_leaves, val_score: 85.480000:  35%|###############4                            | 7/20 [01:56<03:34, 16.51s/it][I 2020-04-26 20:01:41,703] Finished trial#6 with value: 86.15 with parameters: {'num_leaves': 210}. Best is trial#1 with value: 85.48.\n",
      "\n",
      "\n",
      "\n",
      "\n",
      "\n",
      "\n",
      "tune_num_leaves, val_score: 85.480000:  35%|###############4                            | 7/20 [01:56<03:34, 16.51s/it]"
     ]
    },
    {
     "name": "stdout",
     "output_type": "stream",
     "text": [
      "Training until validation scores don't improve for 200 rounds\n",
      "[500]\tvalid_0's f1: 86.27\n",
      "Early stopping, best iteration is:\n",
      "[722]\tvalid_0's f1: 86.34\n"
     ]
    },
    {
     "name": "stderr",
     "output_type": "stream",
     "text": [
      "\n",
      "\n",
      "\n",
      "\n",
      "\n",
      "\n",
      "tune_num_leaves, val_score: 85.480000:  35%|###############4                            | 7/20 [02:15<03:34, 16.51s/it]\n",
      "\n",
      "\n",
      "\n",
      "\n",
      "\n",
      "tune_num_leaves, val_score: 85.480000:  40%|#################6                          | 8/20 [02:15<03:28, 17.34s/it][I 2020-04-26 20:02:00,996] Finished trial#7 with value: 86.34 with parameters: {'num_leaves': 147}. Best is trial#1 with value: 85.48.\n",
      "\n",
      "\n",
      "\n",
      "\n",
      "\n",
      "\n",
      "tune_num_leaves, val_score: 85.480000:  40%|#################6                          | 8/20 [02:15<03:28, 17.34s/it]"
     ]
    },
    {
     "name": "stdout",
     "output_type": "stream",
     "text": [
      "Training until validation scores don't improve for 200 rounds\n",
      "[500]\tvalid_0's f1: 86.57\n",
      "[1000]\tvalid_0's f1: 86.67\n",
      "Did not meet early stopping. Best iteration is:\n",
      "[957]\tvalid_0's f1: 86.67\n"
     ]
    },
    {
     "name": "stderr",
     "output_type": "stream",
     "text": [
      "\n",
      "\n",
      "\n",
      "\n",
      "\n",
      "\n",
      "tune_num_leaves, val_score: 85.480000:  40%|#################6                          | 8/20 [02:31<03:28, 17.34s/it]\n",
      "\n",
      "\n",
      "\n",
      "\n",
      "\n",
      "tune_num_leaves, val_score: 85.480000:  45%|###################8                        | 9/20 [02:31<03:05, 16.85s/it][I 2020-04-26 20:02:16,695] Finished trial#8 with value: 86.67 with parameters: {'num_leaves': 34}. Best is trial#1 with value: 85.48.\n",
      "\n",
      "\n",
      "\n",
      "\n",
      "\n",
      "\n",
      "tune_num_leaves, val_score: 85.480000:  45%|###################8                        | 9/20 [02:31<03:05, 16.85s/it]"
     ]
    },
    {
     "name": "stdout",
     "output_type": "stream",
     "text": [
      "Training until validation scores don't improve for 200 rounds\n",
      "[500]\tvalid_0's f1: 86.21\n",
      "Early stopping, best iteration is:\n",
      "[632]\tvalid_0's f1: 86.23\n"
     ]
    },
    {
     "name": "stderr",
     "output_type": "stream",
     "text": [
      "\n",
      "\n",
      "\n",
      "\n",
      "\n",
      "\n",
      "tune_num_leaves, val_score: 85.480000:  45%|###################8                        | 9/20 [02:49<03:05, 16.85s/it]\n",
      "\n",
      "\n",
      "\n",
      "\n",
      "\n",
      "tune_num_leaves, val_score: 85.480000:  50%|#####################5                     | 10/20 [02:49<02:53, 17.36s/it][I 2020-04-26 20:02:35,235] Finished trial#9 with value: 86.23 with parameters: {'num_leaves': 183}. Best is trial#1 with value: 85.48.\n",
      "\n",
      "\n",
      "\n",
      "\n",
      "\n",
      "\n",
      "tune_num_leaves, val_score: 85.480000:  50%|#####################5                     | 10/20 [02:49<02:53, 17.36s/it]"
     ]
    },
    {
     "name": "stdout",
     "output_type": "stream",
     "text": [
      "Training until validation scores don't improve for 200 rounds\n",
      "Early stopping, best iteration is:\n",
      "[271]\tvalid_0's f1: 86\n"
     ]
    },
    {
     "name": "stderr",
     "output_type": "stream",
     "text": [
      "\n",
      "\n",
      "\n",
      "\n",
      "\n",
      "\n",
      "tune_num_leaves, val_score: 85.480000:  50%|#####################5                     | 10/20 [03:01<02:53, 17.36s/it]\n",
      "\n",
      "\n",
      "\n",
      "\n",
      "\n",
      "tune_num_leaves, val_score: 85.480000:  55%|#######################6                   | 11/20 [03:01<02:20, 15.64s/it][I 2020-04-26 20:02:46,863] Finished trial#10 with value: 86.0 with parameters: {'num_leaves': 245}. Best is trial#1 with value: 85.48.\n",
      "\n",
      "\n",
      "\n",
      "\n",
      "\n",
      "\n",
      "tune_num_leaves, val_score: 85.480000:  55%|#######################6                   | 11/20 [03:01<02:20, 15.64s/it]"
     ]
    },
    {
     "name": "stdout",
     "output_type": "stream",
     "text": [
      "Training until validation scores don't improve for 200 rounds\n",
      "Early stopping, best iteration is:\n",
      "[291]\tvalid_0's f1: 86.06\n"
     ]
    },
    {
     "name": "stderr",
     "output_type": "stream",
     "text": [
      "\n",
      "\n",
      "\n",
      "\n",
      "\n",
      "\n",
      "tune_num_leaves, val_score: 85.480000:  55%|#######################6                   | 11/20 [03:13<02:20, 15.64s/it]\n",
      "\n",
      "\n",
      "\n",
      "\n",
      "\n",
      "tune_num_leaves, val_score: 85.480000:  60%|#########################8                 | 12/20 [03:13<01:56, 14.56s/it][I 2020-04-26 20:02:58,886] Finished trial#11 with value: 86.06 with parameters: {'num_leaves': 240}. Best is trial#1 with value: 85.48.\n",
      "\n",
      "\n",
      "\n",
      "\n",
      "\n",
      "\n",
      "tune_num_leaves, val_score: 85.480000:  60%|#########################8                 | 12/20 [03:13<01:56, 14.56s/it]"
     ]
    },
    {
     "name": "stdout",
     "output_type": "stream",
     "text": [
      "Training until validation scores don't improve for 200 rounds\n",
      "Early stopping, best iteration is:\n",
      "[271]\tvalid_0's f1: 86\n"
     ]
    },
    {
     "name": "stderr",
     "output_type": "stream",
     "text": [
      "\n",
      "\n",
      "\n",
      "\n",
      "\n",
      "\n",
      "tune_num_leaves, val_score: 85.480000:  60%|#########################8                 | 12/20 [03:24<01:56, 14.56s/it]\n",
      "\n",
      "\n",
      "\n",
      "\n",
      "\n",
      "tune_num_leaves, val_score: 85.480000:  65%|###########################9               | 13/20 [03:24<01:35, 13.64s/it][I 2020-04-26 20:03:10,406] Finished trial#12 with value: 86.0 with parameters: {'num_leaves': 245}. Best is trial#1 with value: 85.48.\n",
      "\n",
      "\n",
      "\n",
      "\n",
      "\n",
      "\n",
      "tune_num_leaves, val_score: 85.480000:  65%|###########################9               | 13/20 [03:24<01:35, 13.64s/it]"
     ]
    },
    {
     "name": "stdout",
     "output_type": "stream",
     "text": [
      "Training until validation scores don't improve for 200 rounds\n",
      "[500]\tvalid_0's f1: 86.45\n",
      "Early stopping, best iteration is:\n",
      "[644]\tvalid_0's f1: 86.54\n"
     ]
    },
    {
     "name": "stderr",
     "output_type": "stream",
     "text": [
      "\n",
      "\n",
      "\n",
      "\n",
      "\n",
      "\n",
      "tune_num_leaves, val_score: 85.480000:  65%|###########################9               | 13/20 [03:39<01:35, 13.64s/it]\n",
      "\n",
      "\n",
      "\n",
      "\n",
      "\n",
      "tune_num_leaves, val_score: 85.480000:  70%|##############################1            | 14/20 [03:39<01:23, 13.92s/it][I 2020-04-26 20:03:24,964] Finished trial#13 with value: 86.54 with parameters: {'num_leaves': 68}. Best is trial#1 with value: 85.48.\n",
      "\n",
      "\n",
      "\n",
      "\n",
      "\n",
      "\n",
      "tune_num_leaves, val_score: 85.480000:  70%|##############################1            | 14/20 [03:39<01:23, 13.92s/it]"
     ]
    },
    {
     "name": "stdout",
     "output_type": "stream",
     "text": [
      "Training until validation scores don't improve for 200 rounds\n",
      "[500]\tvalid_0's f1: 86.15\n",
      "Early stopping, best iteration is:\n",
      "[368]\tvalid_0's f1: 86.2\n"
     ]
    },
    {
     "name": "stderr",
     "output_type": "stream",
     "text": [
      "\n",
      "\n",
      "\n",
      "\n",
      "\n",
      "\n",
      "tune_num_leaves, val_score: 85.480000:  70%|##############################1            | 14/20 [03:52<01:23, 13.92s/it]\n",
      "\n",
      "\n",
      "\n",
      "\n",
      "\n",
      "tune_num_leaves, val_score: 85.480000:  75%|################################2          | 15/20 [03:52<01:07, 13.60s/it][I 2020-04-26 20:03:37,812] Finished trial#14 with value: 86.2 with parameters: {'num_leaves': 192}. Best is trial#1 with value: 85.48.\n",
      "\n",
      "\n",
      "\n",
      "\n",
      "\n",
      "\n",
      "tune_num_leaves, val_score: 85.480000:  75%|################################2          | 15/20 [03:52<01:07, 13.60s/it]"
     ]
    },
    {
     "name": "stdout",
     "output_type": "stream",
     "text": [
      "Training until validation scores don't improve for 200 rounds\n",
      "[500]\tvalid_0's f1: 86.3\n",
      "[1000]\tvalid_0's f1: 86.59\n",
      "Did not meet early stopping. Best iteration is:\n",
      "[991]\tvalid_0's f1: 86.59\n"
     ]
    },
    {
     "name": "stderr",
     "output_type": "stream",
     "text": [
      "\n",
      "\n",
      "\n",
      "\n",
      "\n",
      "\n",
      "tune_num_leaves, val_score: 85.480000:  75%|################################2          | 15/20 [04:06<01:07, 13.60s/it]\n",
      "\n",
      "\n",
      "\n",
      "\n",
      "\n",
      "tune_num_leaves, val_score: 85.480000:  80%|##################################4        | 16/20 [04:06<00:55, 13.91s/it][I 2020-04-26 20:03:52,446] Finished trial#15 with value: 86.59 with parameters: {'num_leaves': 16}. Best is trial#1 with value: 85.48.\n",
      "\n",
      "\n",
      "\n",
      "\n",
      "\n",
      "\n",
      "tune_num_leaves, val_score: 85.480000:  80%|##################################4        | 16/20 [04:06<00:55, 13.91s/it]"
     ]
    },
    {
     "name": "stdout",
     "output_type": "stream",
     "text": [
      "Training until validation scores don't improve for 200 rounds\n",
      "[500]\tvalid_0's f1: 86.49\n",
      "Early stopping, best iteration is:\n",
      "[783]\tvalid_0's f1: 86.56\n"
     ]
    },
    {
     "name": "stderr",
     "output_type": "stream",
     "text": [
      "\n",
      "\n",
      "\n",
      "\n",
      "\n",
      "\n",
      "tune_num_leaves, val_score: 85.480000:  80%|##################################4        | 16/20 [04:23<00:55, 13.91s/it]\n",
      "\n",
      "\n",
      "\n",
      "\n",
      "\n",
      "tune_num_leaves, val_score: 85.480000:  85%|####################################5      | 17/20 [04:23<00:44, 14.75s/it][I 2020-04-26 20:04:09,166] Finished trial#16 with value: 86.56 with parameters: {'num_leaves': 52}. Best is trial#1 with value: 85.48.\n",
      "\n",
      "\n",
      "\n",
      "\n",
      "\n",
      "\n",
      "tune_num_leaves, val_score: 85.480000:  85%|####################################5      | 17/20 [04:23<00:44, 14.75s/it]"
     ]
    },
    {
     "name": "stdout",
     "output_type": "stream",
     "text": [
      "Training until validation scores don't improve for 200 rounds\n",
      "[500]\tvalid_0's f1: 86.51\n",
      "Early stopping, best iteration is:\n",
      "[613]\tvalid_0's f1: 86.6\n"
     ]
    },
    {
     "name": "stderr",
     "output_type": "stream",
     "text": [
      "\n",
      "\n",
      "\n",
      "\n",
      "\n",
      "\n",
      "tune_num_leaves, val_score: 85.480000:  85%|####################################5      | 17/20 [04:39<00:44, 14.75s/it]\n",
      "\n",
      "\n",
      "\n",
      "\n",
      "\n",
      "tune_num_leaves, val_score: 85.480000:  90%|######################################7    | 18/20 [04:39<00:30, 15.01s/it][I 2020-04-26 20:04:24,778] Finished trial#17 with value: 86.6 with parameters: {'num_leaves': 104}. Best is trial#1 with value: 85.48.\n",
      "\n",
      "\n",
      "\n",
      "\n",
      "\n",
      "\n",
      "tune_num_leaves, val_score: 85.480000:  90%|######################################7    | 18/20 [04:39<00:30, 15.01s/it]"
     ]
    },
    {
     "name": "stdout",
     "output_type": "stream",
     "text": [
      "Training until validation scores don't improve for 200 rounds\n",
      "[500]\tvalid_0's f1: 85.97\n",
      "Early stopping, best iteration is:\n",
      "[427]\tvalid_0's f1: 86.02\n"
     ]
    },
    {
     "name": "stderr",
     "output_type": "stream",
     "text": [
      "\n",
      "\n",
      "\n",
      "\n",
      "\n",
      "\n",
      "tune_num_leaves, val_score: 85.480000:  90%|######################################7    | 18/20 [04:55<00:30, 15.01s/it]\n",
      "\n",
      "\n",
      "\n",
      "\n",
      "\n",
      "tune_num_leaves, val_score: 85.480000:  95%|########################################8  | 19/20 [04:55<00:15, 15.26s/it][I 2020-04-26 20:04:40,616] Finished trial#18 with value: 86.02 with parameters: {'num_leaves': 256}. Best is trial#1 with value: 85.48.\n",
      "\n",
      "\n",
      "\n",
      "\n",
      "\n",
      "\n",
      "tune_num_leaves, val_score: 85.480000:  95%|########################################8  | 19/20 [04:55<00:15, 15.26s/it]"
     ]
    },
    {
     "name": "stdout",
     "output_type": "stream",
     "text": [
      "Training until validation scores don't improve for 200 rounds\n",
      "[500]\tvalid_0's f1: 86.04\n",
      "Early stopping, best iteration is:\n",
      "[537]\tvalid_0's f1: 86.1\n"
     ]
    },
    {
     "name": "stderr",
     "output_type": "stream",
     "text": [
      "\n",
      "\n",
      "\n",
      "\n",
      "\n",
      "\n",
      "tune_num_leaves, val_score: 85.480000:  95%|########################################8  | 19/20 [05:12<00:15, 15.26s/it]\n",
      "\n",
      "\n",
      "\n",
      "\n",
      "\n",
      "tune_num_leaves, val_score: 85.480000: 100%|###########################################| 20/20 [05:12<00:00, 15.91s/it][I 2020-04-26 20:04:58,049] Finished trial#19 with value: 86.1 with parameters: {'num_leaves': 220}. Best is trial#1 with value: 85.48.\n",
      "tune_num_leaves, val_score: 85.480000: 100%|###########################################| 20/20 [05:12<00:00, 15.63s/it]\n",
      "\n",
      "\n",
      "\n",
      "\n",
      "\n",
      "\n",
      "  0%|                                                                                           | 0/10 [00:00<?, ?it/s]\n",
      "\n",
      "\n",
      "\n",
      "\n",
      "\n",
      "tune_bagging_fraction_and_bagging_freq, val_score: 85.480000:   0%|                             | 0/10 [00:00<?, ?it/s]"
     ]
    },
    {
     "name": "stdout",
     "output_type": "stream",
     "text": [
      "Training until validation scores don't improve for 200 rounds\n",
      "[500]\tvalid_0's f1: 85.1\n"
     ]
    },
    {
     "ename": "KeyboardInterrupt",
     "evalue": "",
     "output_type": "error",
     "traceback": [
      "\u001b[1;31m---------------------------------------------------------------------------\u001b[0m",
      "\u001b[1;31mKeyboardInterrupt\u001b[0m                         Traceback (most recent call last)",
      "\u001b[1;32m<ipython-input-22-9326409087ca>\u001b[0m in \u001b[0;36m<module>\u001b[1;34m\u001b[0m\n\u001b[0;32m     17\u001b[0m                        \u001b[0mbest_params\u001b[0m\u001b[1;33m=\u001b[0m\u001b[0mbest_params\u001b[0m\u001b[1;33m,\u001b[0m\u001b[1;33m\u001b[0m\u001b[1;33m\u001b[0m\u001b[0m\n\u001b[0;32m     18\u001b[0m                        \u001b[0mtuning_history\u001b[0m\u001b[1;33m=\u001b[0m\u001b[0mtuning_history\u001b[0m\u001b[1;33m,\u001b[0m\u001b[1;33m\u001b[0m\u001b[1;33m\u001b[0m\u001b[0m\n\u001b[1;32m---> 19\u001b[1;33m                        verbose_eval=500)\n\u001b[0m\u001b[0;32m     20\u001b[0m \u001b[0mlgb\u001b[0m\u001b[1;33m.\u001b[0m\u001b[0mplot_metric\u001b[0m\u001b[1;33m(\u001b[0m\u001b[0mevals_result\u001b[0m\u001b[1;33m,\u001b[0m \u001b[0mmetric\u001b[0m\u001b[1;33m=\u001b[0m\u001b[1;34m'f1'\u001b[0m\u001b[1;33m)\u001b[0m\u001b[1;33m\u001b[0m\u001b[1;33m\u001b[0m\u001b[0m\n\u001b[0;32m     21\u001b[0m \u001b[0mprint\u001b[0m\u001b[1;33m(\u001b[0m\u001b[0mbest_params\u001b[0m\u001b[1;33m)\u001b[0m\u001b[1;33m\u001b[0m\u001b[1;33m\u001b[0m\u001b[0m\n",
      "\u001b[1;32mZ:\\Users\\wayne\\Anaconda3\\lib\\site-packages\\optuna\\_experimental.py\u001b[0m in \u001b[0;36mnew_func\u001b[1;34m(*args, **kwargs)\u001b[0m\n\u001b[0;32m     91\u001b[0m                 )\n\u001b[0;32m     92\u001b[0m \u001b[1;33m\u001b[0m\u001b[0m\n\u001b[1;32m---> 93\u001b[1;33m                 \u001b[1;32mreturn\u001b[0m \u001b[0mfunc\u001b[0m\u001b[1;33m(\u001b[0m\u001b[1;33m*\u001b[0m\u001b[0margs\u001b[0m\u001b[1;33m,\u001b[0m \u001b[1;33m**\u001b[0m\u001b[0mkwargs\u001b[0m\u001b[1;33m)\u001b[0m  \u001b[1;31m# type: ignore\u001b[0m\u001b[1;33m\u001b[0m\u001b[1;33m\u001b[0m\u001b[0m\n\u001b[0m\u001b[0;32m     94\u001b[0m \u001b[1;33m\u001b[0m\u001b[0m\n\u001b[0;32m     95\u001b[0m             \u001b[1;32mreturn\u001b[0m \u001b[0mnew_func\u001b[0m\u001b[1;33m\u001b[0m\u001b[1;33m\u001b[0m\u001b[0m\n",
      "\u001b[1;32mZ:\\Users\\wayne\\Anaconda3\\lib\\site-packages\\optuna\\integration\\lightgbm_tuner\\__init__.py\u001b[0m in \u001b[0;36mtrain\u001b[1;34m(*args, **kwargs)\u001b[0m\n\u001b[0;32m     32\u001b[0m \u001b[1;33m\u001b[0m\u001b[0m\n\u001b[0;32m     33\u001b[0m     \u001b[0mauto_booster\u001b[0m \u001b[1;33m=\u001b[0m \u001b[0mLightGBMTuner\u001b[0m\u001b[1;33m(\u001b[0m\u001b[1;33m*\u001b[0m\u001b[0margs\u001b[0m\u001b[1;33m,\u001b[0m \u001b[1;33m**\u001b[0m\u001b[0mkwargs\u001b[0m\u001b[1;33m)\u001b[0m\u001b[1;33m\u001b[0m\u001b[1;33m\u001b[0m\u001b[0m\n\u001b[1;32m---> 34\u001b[1;33m     \u001b[0mbooster\u001b[0m \u001b[1;33m=\u001b[0m \u001b[0mauto_booster\u001b[0m\u001b[1;33m.\u001b[0m\u001b[0mrun\u001b[0m\u001b[1;33m(\u001b[0m\u001b[1;33m)\u001b[0m\u001b[1;33m\u001b[0m\u001b[1;33m\u001b[0m\u001b[0m\n\u001b[0m\u001b[0;32m     35\u001b[0m     \u001b[1;32mreturn\u001b[0m \u001b[0mbooster\u001b[0m\u001b[1;33m\u001b[0m\u001b[1;33m\u001b[0m\u001b[0m\n\u001b[0;32m     36\u001b[0m \u001b[1;33m\u001b[0m\u001b[0m\n",
      "\u001b[1;32mZ:\\Users\\wayne\\Anaconda3\\lib\\site-packages\\optuna\\integration\\lightgbm_tuner\\optimize.py\u001b[0m in \u001b[0;36mrun\u001b[1;34m(self)\u001b[0m\n\u001b[0;32m    425\u001b[0m                 \u001b[1;32mreturn\u001b[0m \u001b[0mself\u001b[0m\u001b[1;33m.\u001b[0m\u001b[0mbest_booster\u001b[0m\u001b[1;33m\u001b[0m\u001b[1;33m\u001b[0m\u001b[0m\n\u001b[0;32m    426\u001b[0m \u001b[1;33m\u001b[0m\u001b[0m\n\u001b[1;32m--> 427\u001b[1;33m             \u001b[0mself\u001b[0m\u001b[1;33m.\u001b[0m\u001b[0mtune_bagging\u001b[0m\u001b[1;33m(\u001b[0m\u001b[1;33m)\u001b[0m\u001b[1;33m\u001b[0m\u001b[1;33m\u001b[0m\u001b[0m\n\u001b[0m\u001b[0;32m    428\u001b[0m             \u001b[1;32mif\u001b[0m \u001b[0mtime_budget\u001b[0m \u001b[1;32mis\u001b[0m \u001b[1;32mnot\u001b[0m \u001b[1;32mNone\u001b[0m \u001b[1;32mand\u001b[0m \u001b[0mtime_budget\u001b[0m \u001b[1;33m<\u001b[0m \u001b[0mt\u001b[0m\u001b[1;33m.\u001b[0m\u001b[0melapsed_secs\u001b[0m\u001b[1;33m(\u001b[0m\u001b[1;33m)\u001b[0m\u001b[1;33m:\u001b[0m\u001b[1;33m\u001b[0m\u001b[1;33m\u001b[0m\u001b[0m\n\u001b[0;32m    429\u001b[0m                 \u001b[1;32mreturn\u001b[0m \u001b[0mself\u001b[0m\u001b[1;33m.\u001b[0m\u001b[0mbest_booster\u001b[0m\u001b[1;33m\u001b[0m\u001b[1;33m\u001b[0m\u001b[0m\n",
      "\u001b[1;32mZ:\\Users\\wayne\\Anaconda3\\lib\\site-packages\\optuna\\integration\\lightgbm_tuner\\optimize.py\u001b[0m in \u001b[0;36mtune_bagging\u001b[1;34m(self, n_trials)\u001b[0m\n\u001b[0;32m    474\u001b[0m \u001b[1;33m\u001b[0m\u001b[0m\n\u001b[0;32m    475\u001b[0m         self.tune_params(\n\u001b[1;32m--> 476\u001b[1;33m             \u001b[1;33m[\u001b[0m\u001b[1;34m\"bagging_fraction\"\u001b[0m\u001b[1;33m,\u001b[0m \u001b[1;34m\"bagging_freq\"\u001b[0m\u001b[1;33m]\u001b[0m\u001b[1;33m,\u001b[0m \u001b[0mn_trials\u001b[0m\u001b[1;33m,\u001b[0m \u001b[0moptuna\u001b[0m\u001b[1;33m.\u001b[0m\u001b[0msamplers\u001b[0m\u001b[1;33m.\u001b[0m\u001b[0mTPESampler\u001b[0m\u001b[1;33m(\u001b[0m\u001b[1;33m)\u001b[0m\u001b[1;33m\u001b[0m\u001b[1;33m\u001b[0m\u001b[0m\n\u001b[0m\u001b[0;32m    477\u001b[0m         )\n\u001b[0;32m    478\u001b[0m \u001b[1;33m\u001b[0m\u001b[0m\n",
      "\u001b[1;32mZ:\\Users\\wayne\\Anaconda3\\lib\\site-packages\\optuna\\integration\\lightgbm_tuner\\optimize.py\u001b[0m in \u001b[0;36mtune_params\u001b[1;34m(self, target_param_names, n_trials, sampler)\u001b[0m\n\u001b[0;32m    526\u001b[0m             \u001b[0mdirection\u001b[0m\u001b[1;33m=\u001b[0m\u001b[1;34m\"maximize\"\u001b[0m \u001b[1;32mif\u001b[0m \u001b[0mself\u001b[0m\u001b[1;33m.\u001b[0m\u001b[0mhigher_is_better\u001b[0m\u001b[1;33m(\u001b[0m\u001b[1;33m)\u001b[0m \u001b[1;32melse\u001b[0m \u001b[1;34m\"minimize\"\u001b[0m\u001b[1;33m,\u001b[0m \u001b[0msampler\u001b[0m\u001b[1;33m=\u001b[0m\u001b[0msampler\u001b[0m\u001b[1;33m\u001b[0m\u001b[1;33m\u001b[0m\u001b[0m\n\u001b[0;32m    527\u001b[0m         )\n\u001b[1;32m--> 528\u001b[1;33m         \u001b[0mstudy\u001b[0m\u001b[1;33m.\u001b[0m\u001b[0moptimize\u001b[0m\u001b[1;33m(\u001b[0m\u001b[0mobjective\u001b[0m\u001b[1;33m,\u001b[0m \u001b[0mn_trials\u001b[0m\u001b[1;33m=\u001b[0m\u001b[0mn_trials\u001b[0m\u001b[1;33m,\u001b[0m \u001b[0mcatch\u001b[0m\u001b[1;33m=\u001b[0m\u001b[1;33m(\u001b[0m\u001b[1;33m)\u001b[0m\u001b[1;33m)\u001b[0m\u001b[1;33m\u001b[0m\u001b[1;33m\u001b[0m\u001b[0m\n\u001b[0m\u001b[0;32m    529\u001b[0m \u001b[1;33m\u001b[0m\u001b[0m\n\u001b[0;32m    530\u001b[0m         \u001b[0mpbar\u001b[0m\u001b[1;33m.\u001b[0m\u001b[0mclose\u001b[0m\u001b[1;33m(\u001b[0m\u001b[1;33m)\u001b[0m\u001b[1;33m\u001b[0m\u001b[1;33m\u001b[0m\u001b[0m\n",
      "\u001b[1;32mZ:\\Users\\wayne\\Anaconda3\\lib\\site-packages\\optuna\\study.py\u001b[0m in \u001b[0;36moptimize\u001b[1;34m(self, func, n_trials, timeout, n_jobs, catch, callbacks, gc_after_trial, show_progress_bar)\u001b[0m\n\u001b[0;32m    329\u001b[0m             \u001b[1;32mif\u001b[0m \u001b[0mn_jobs\u001b[0m \u001b[1;33m==\u001b[0m \u001b[1;36m1\u001b[0m\u001b[1;33m:\u001b[0m\u001b[1;33m\u001b[0m\u001b[1;33m\u001b[0m\u001b[0m\n\u001b[0;32m    330\u001b[0m                 self._optimize_sequential(\n\u001b[1;32m--> 331\u001b[1;33m                     \u001b[0mfunc\u001b[0m\u001b[1;33m,\u001b[0m \u001b[0mn_trials\u001b[0m\u001b[1;33m,\u001b[0m \u001b[0mtimeout\u001b[0m\u001b[1;33m,\u001b[0m \u001b[0mcatch\u001b[0m\u001b[1;33m,\u001b[0m \u001b[0mcallbacks\u001b[0m\u001b[1;33m,\u001b[0m \u001b[0mgc_after_trial\u001b[0m\u001b[1;33m,\u001b[0m \u001b[1;32mNone\u001b[0m\u001b[1;33m\u001b[0m\u001b[1;33m\u001b[0m\u001b[0m\n\u001b[0m\u001b[0;32m    332\u001b[0m                 )\n\u001b[0;32m    333\u001b[0m             \u001b[1;32melse\u001b[0m\u001b[1;33m:\u001b[0m\u001b[1;33m\u001b[0m\u001b[1;33m\u001b[0m\u001b[0m\n",
      "\u001b[1;32mZ:\\Users\\wayne\\Anaconda3\\lib\\site-packages\\optuna\\study.py\u001b[0m in \u001b[0;36m_optimize_sequential\u001b[1;34m(self, func, n_trials, timeout, catch, callbacks, gc_after_trial, time_start)\u001b[0m\n\u001b[0;32m    624\u001b[0m                     \u001b[1;32mbreak\u001b[0m\u001b[1;33m\u001b[0m\u001b[1;33m\u001b[0m\u001b[0m\n\u001b[0;32m    625\u001b[0m \u001b[1;33m\u001b[0m\u001b[0m\n\u001b[1;32m--> 626\u001b[1;33m             \u001b[0mself\u001b[0m\u001b[1;33m.\u001b[0m\u001b[0m_run_trial_and_callbacks\u001b[0m\u001b[1;33m(\u001b[0m\u001b[0mfunc\u001b[0m\u001b[1;33m,\u001b[0m \u001b[0mcatch\u001b[0m\u001b[1;33m,\u001b[0m \u001b[0mcallbacks\u001b[0m\u001b[1;33m,\u001b[0m \u001b[0mgc_after_trial\u001b[0m\u001b[1;33m)\u001b[0m\u001b[1;33m\u001b[0m\u001b[1;33m\u001b[0m\u001b[0m\n\u001b[0m\u001b[0;32m    627\u001b[0m \u001b[1;33m\u001b[0m\u001b[0m\n\u001b[0;32m    628\u001b[0m             \u001b[0mself\u001b[0m\u001b[1;33m.\u001b[0m\u001b[0m_progress_bar\u001b[0m\u001b[1;33m.\u001b[0m\u001b[0mupdate\u001b[0m\u001b[1;33m(\u001b[0m\u001b[1;33m(\u001b[0m\u001b[0mdatetime\u001b[0m\u001b[1;33m.\u001b[0m\u001b[0mdatetime\u001b[0m\u001b[1;33m.\u001b[0m\u001b[0mnow\u001b[0m\u001b[1;33m(\u001b[0m\u001b[1;33m)\u001b[0m \u001b[1;33m-\u001b[0m \u001b[0mtime_start\u001b[0m\u001b[1;33m)\u001b[0m\u001b[1;33m.\u001b[0m\u001b[0mtotal_seconds\u001b[0m\u001b[1;33m(\u001b[0m\u001b[1;33m)\u001b[0m\u001b[1;33m)\u001b[0m\u001b[1;33m\u001b[0m\u001b[1;33m\u001b[0m\u001b[0m\n",
      "\u001b[1;32mZ:\\Users\\wayne\\Anaconda3\\lib\\site-packages\\optuna\\study.py\u001b[0m in \u001b[0;36m_run_trial_and_callbacks\u001b[1;34m(self, func, catch, callbacks, gc_after_trial)\u001b[0m\n\u001b[0;32m    654\u001b[0m         \u001b[1;31m# type: (...) -> None\u001b[0m\u001b[1;33m\u001b[0m\u001b[1;33m\u001b[0m\u001b[1;33m\u001b[0m\u001b[0m\n\u001b[0;32m    655\u001b[0m \u001b[1;33m\u001b[0m\u001b[0m\n\u001b[1;32m--> 656\u001b[1;33m         \u001b[0mtrial\u001b[0m \u001b[1;33m=\u001b[0m \u001b[0mself\u001b[0m\u001b[1;33m.\u001b[0m\u001b[0m_run_trial\u001b[0m\u001b[1;33m(\u001b[0m\u001b[0mfunc\u001b[0m\u001b[1;33m,\u001b[0m \u001b[0mcatch\u001b[0m\u001b[1;33m,\u001b[0m \u001b[0mgc_after_trial\u001b[0m\u001b[1;33m)\u001b[0m\u001b[1;33m\u001b[0m\u001b[1;33m\u001b[0m\u001b[0m\n\u001b[0m\u001b[0;32m    657\u001b[0m         \u001b[1;32mif\u001b[0m \u001b[0mcallbacks\u001b[0m \u001b[1;32mis\u001b[0m \u001b[1;32mnot\u001b[0m \u001b[1;32mNone\u001b[0m\u001b[1;33m:\u001b[0m\u001b[1;33m\u001b[0m\u001b[1;33m\u001b[0m\u001b[0m\n\u001b[0;32m    658\u001b[0m             \u001b[0mfrozen_trial\u001b[0m \u001b[1;33m=\u001b[0m \u001b[0mself\u001b[0m\u001b[1;33m.\u001b[0m\u001b[0m_storage\u001b[0m\u001b[1;33m.\u001b[0m\u001b[0mget_trial\u001b[0m\u001b[1;33m(\u001b[0m\u001b[0mtrial\u001b[0m\u001b[1;33m.\u001b[0m\u001b[0m_trial_id\u001b[0m\u001b[1;33m)\u001b[0m\u001b[1;33m\u001b[0m\u001b[1;33m\u001b[0m\u001b[0m\n",
      "\u001b[1;32mZ:\\Users\\wayne\\Anaconda3\\lib\\site-packages\\optuna\\study.py\u001b[0m in \u001b[0;36m_run_trial\u001b[1;34m(self, func, catch, gc_after_trial)\u001b[0m\n\u001b[0;32m    675\u001b[0m \u001b[1;33m\u001b[0m\u001b[0m\n\u001b[0;32m    676\u001b[0m         \u001b[1;32mtry\u001b[0m\u001b[1;33m:\u001b[0m\u001b[1;33m\u001b[0m\u001b[1;33m\u001b[0m\u001b[0m\n\u001b[1;32m--> 677\u001b[1;33m             \u001b[0mresult\u001b[0m \u001b[1;33m=\u001b[0m \u001b[0mfunc\u001b[0m\u001b[1;33m(\u001b[0m\u001b[0mtrial\u001b[0m\u001b[1;33m)\u001b[0m\u001b[1;33m\u001b[0m\u001b[1;33m\u001b[0m\u001b[0m\n\u001b[0m\u001b[0;32m    678\u001b[0m         \u001b[1;32mexcept\u001b[0m \u001b[0mexceptions\u001b[0m\u001b[1;33m.\u001b[0m\u001b[0mTrialPruned\u001b[0m \u001b[1;32mas\u001b[0m \u001b[0me\u001b[0m\u001b[1;33m:\u001b[0m\u001b[1;33m\u001b[0m\u001b[1;33m\u001b[0m\u001b[0m\n\u001b[0;32m    679\u001b[0m             message = \"Setting status of trial#{} as {}. {}\".format(\n",
      "\u001b[1;32mZ:\\Users\\wayne\\Anaconda3\\lib\\site-packages\\optuna\\integration\\lightgbm_tuner\\optimize.py\u001b[0m in \u001b[0;36m__call__\u001b[1;34m(self, trial)\u001b[0m\n\u001b[0;32m    267\u001b[0m \u001b[1;33m\u001b[0m\u001b[0m\n\u001b[0;32m    268\u001b[0m         \u001b[1;32mwith\u001b[0m \u001b[0m_timer\u001b[0m\u001b[1;33m(\u001b[0m\u001b[1;33m)\u001b[0m \u001b[1;32mas\u001b[0m \u001b[0mt\u001b[0m\u001b[1;33m:\u001b[0m\u001b[1;33m\u001b[0m\u001b[1;33m\u001b[0m\u001b[0m\n\u001b[1;32m--> 269\u001b[1;33m             \u001b[0mbooster\u001b[0m \u001b[1;33m=\u001b[0m \u001b[0mlgb\u001b[0m\u001b[1;33m.\u001b[0m\u001b[0mtrain\u001b[0m\u001b[1;33m(\u001b[0m\u001b[0mself\u001b[0m\u001b[1;33m.\u001b[0m\u001b[0mlgbm_params\u001b[0m\u001b[1;33m,\u001b[0m \u001b[0mself\u001b[0m\u001b[1;33m.\u001b[0m\u001b[0mtrain_set\u001b[0m\u001b[1;33m,\u001b[0m \u001b[1;33m**\u001b[0m\u001b[0mself\u001b[0m\u001b[1;33m.\u001b[0m\u001b[0mlgbm_kwargs\u001b[0m\u001b[1;33m)\u001b[0m\u001b[1;33m\u001b[0m\u001b[1;33m\u001b[0m\u001b[0m\n\u001b[0m\u001b[0;32m    270\u001b[0m \u001b[1;33m\u001b[0m\u001b[0m\n\u001b[0;32m    271\u001b[0m         \u001b[0mval_score\u001b[0m \u001b[1;33m=\u001b[0m \u001b[0mself\u001b[0m\u001b[1;33m.\u001b[0m\u001b[0m_get_booster_best_score\u001b[0m\u001b[1;33m(\u001b[0m\u001b[0mbooster\u001b[0m\u001b[1;33m)\u001b[0m\u001b[1;33m\u001b[0m\u001b[1;33m\u001b[0m\u001b[0m\n",
      "\u001b[1;32mZ:\\Users\\wayne\\Anaconda3\\lib\\site-packages\\lightgbm\\engine.py\u001b[0m in \u001b[0;36mtrain\u001b[1;34m(params, train_set, num_boost_round, valid_sets, valid_names, fobj, feval, init_model, feature_name, categorical_feature, early_stopping_rounds, evals_result, verbose_eval, learning_rates, keep_training_booster, callbacks)\u001b[0m\n\u001b[0;32m    247\u001b[0m                                     evaluation_result_list=None))\n\u001b[0;32m    248\u001b[0m \u001b[1;33m\u001b[0m\u001b[0m\n\u001b[1;32m--> 249\u001b[1;33m         \u001b[0mbooster\u001b[0m\u001b[1;33m.\u001b[0m\u001b[0mupdate\u001b[0m\u001b[1;33m(\u001b[0m\u001b[0mfobj\u001b[0m\u001b[1;33m=\u001b[0m\u001b[0mfobj\u001b[0m\u001b[1;33m)\u001b[0m\u001b[1;33m\u001b[0m\u001b[1;33m\u001b[0m\u001b[0m\n\u001b[0m\u001b[0;32m    250\u001b[0m \u001b[1;33m\u001b[0m\u001b[0m\n\u001b[0;32m    251\u001b[0m         \u001b[0mevaluation_result_list\u001b[0m \u001b[1;33m=\u001b[0m \u001b[1;33m[\u001b[0m\u001b[1;33m]\u001b[0m\u001b[1;33m\u001b[0m\u001b[1;33m\u001b[0m\u001b[0m\n",
      "\u001b[1;32mZ:\\Users\\wayne\\Anaconda3\\lib\\site-packages\\lightgbm\\basic.py\u001b[0m in \u001b[0;36mupdate\u001b[1;34m(self, train_set, fobj)\u001b[0m\n\u001b[0;32m   1974\u001b[0m             _safe_call(_LIB.LGBM_BoosterUpdateOneIter(\n\u001b[0;32m   1975\u001b[0m                 \u001b[0mself\u001b[0m\u001b[1;33m.\u001b[0m\u001b[0mhandle\u001b[0m\u001b[1;33m,\u001b[0m\u001b[1;33m\u001b[0m\u001b[1;33m\u001b[0m\u001b[0m\n\u001b[1;32m-> 1976\u001b[1;33m                 ctypes.byref(is_finished)))\n\u001b[0m\u001b[0;32m   1977\u001b[0m             \u001b[0mself\u001b[0m\u001b[1;33m.\u001b[0m\u001b[0m__is_predicted_cur_iter\u001b[0m \u001b[1;33m=\u001b[0m \u001b[1;33m[\u001b[0m\u001b[1;32mFalse\u001b[0m \u001b[1;32mfor\u001b[0m \u001b[0m_\u001b[0m \u001b[1;32min\u001b[0m \u001b[0mrange_\u001b[0m\u001b[1;33m(\u001b[0m\u001b[0mself\u001b[0m\u001b[1;33m.\u001b[0m\u001b[0m__num_dataset\u001b[0m\u001b[1;33m)\u001b[0m\u001b[1;33m]\u001b[0m\u001b[1;33m\u001b[0m\u001b[1;33m\u001b[0m\u001b[0m\n\u001b[0;32m   1978\u001b[0m             \u001b[1;32mreturn\u001b[0m \u001b[0mis_finished\u001b[0m\u001b[1;33m.\u001b[0m\u001b[0mvalue\u001b[0m \u001b[1;33m==\u001b[0m \u001b[1;36m1\u001b[0m\u001b[1;33m\u001b[0m\u001b[1;33m\u001b[0m\u001b[0m\n",
      "\u001b[1;31mKeyboardInterrupt\u001b[0m: "
     ]
    }
   ],
   "source": [
    "# tune with optunalgb\n",
    "parameters = {\n",
    "    'metric': 'f1',\n",
    "    'learning_rate': 0.001,\n",
    "    'verbose': 0,\n",
    "}\n",
    "\n",
    "evals_result = {}\n",
    "best_params, tuning_history = dict(), list()\n",
    "model = optunalgb.train(parameters,\n",
    "                       x_train,\n",
    "                       valid_sets=x_test,\n",
    "                       num_boost_round=5000,\n",
    "                       early_stopping_rounds=1000,\n",
    "                       feval=lgb_f1_score,\n",
    "                       evals_result=evals_result,\n",
    "                       best_params=best_params,\n",
    "                       tuning_history=tuning_history,\n",
    "                       verbose_eval=500)\n",
    "lgb.plot_metric(evals_result, metric='f1')\n",
    "print(best_params)"
   ]
  },
  {
   "cell_type": "code",
   "execution_count": 25,
   "metadata": {},
   "outputs": [
    {
     "name": "stdout",
     "output_type": "stream",
     "text": [
      "{'metric': 'f1', 'learning_rate': 0.01, 'verbose': 0, 'lambda_l1': 0.0, 'lambda_l2': 0.0, 'num_leaves': 4, 'feature_fraction': 1.0, 'bagging_fraction': 1.0, 'bagging_freq': 0, 'min_child_samples': 20}\n",
      "Training until validation scores don't improve for 10000 rounds\n",
      "[100]\tvalid_0's f1: 81.9\n",
      "[200]\tvalid_0's f1: 83.49\n",
      "[300]\tvalid_0's f1: 84.22\n",
      "[400]\tvalid_0's f1: 84.68\n",
      "[500]\tvalid_0's f1: 85.05\n",
      "[600]\tvalid_0's f1: 85.17\n",
      "[700]\tvalid_0's f1: 85.29\n"
     ]
    },
    {
     "ename": "KeyboardInterrupt",
     "evalue": "",
     "output_type": "error",
     "traceback": [
      "\u001b[1;31m---------------------------------------------------------------------------\u001b[0m",
      "\u001b[1;31mKeyboardInterrupt\u001b[0m                         Traceback (most recent call last)",
      "\u001b[1;32m<ipython-input-25-cf2aba9825ab>\u001b[0m in \u001b[0;36m<module>\u001b[1;34m\u001b[0m\n\u001b[0;32m      9\u001b[0m                        \u001b[0mfeval\u001b[0m\u001b[1;33m=\u001b[0m\u001b[0mlgb_f1_score\u001b[0m\u001b[1;33m,\u001b[0m\u001b[1;33m\u001b[0m\u001b[1;33m\u001b[0m\u001b[0m\n\u001b[0;32m     10\u001b[0m                        \u001b[0mevals_result\u001b[0m\u001b[1;33m=\u001b[0m\u001b[0mevals_result\u001b[0m\u001b[1;33m,\u001b[0m\u001b[1;33m\u001b[0m\u001b[1;33m\u001b[0m\u001b[0m\n\u001b[1;32m---> 11\u001b[1;33m                        verbose_eval=100)\n\u001b[0m\u001b[0;32m     12\u001b[0m \u001b[0mlgb\u001b[0m\u001b[1;33m.\u001b[0m\u001b[0mplot_metric\u001b[0m\u001b[1;33m(\u001b[0m\u001b[0mevals_result\u001b[0m\u001b[1;33m,\u001b[0m \u001b[0mmetric\u001b[0m\u001b[1;33m=\u001b[0m\u001b[1;34m'f1'\u001b[0m\u001b[1;33m)\u001b[0m\u001b[1;33m\u001b[0m\u001b[1;33m\u001b[0m\u001b[0m\n",
      "\u001b[1;32mZ:\\Users\\wayne\\Anaconda3\\lib\\site-packages\\lightgbm\\engine.py\u001b[0m in \u001b[0;36mtrain\u001b[1;34m(params, train_set, num_boost_round, valid_sets, valid_names, fobj, feval, init_model, feature_name, categorical_feature, early_stopping_rounds, evals_result, verbose_eval, learning_rates, keep_training_booster, callbacks)\u001b[0m\n\u001b[0;32m    254\u001b[0m             \u001b[1;32mif\u001b[0m \u001b[0mis_valid_contain_train\u001b[0m\u001b[1;33m:\u001b[0m\u001b[1;33m\u001b[0m\u001b[1;33m\u001b[0m\u001b[0m\n\u001b[0;32m    255\u001b[0m                 \u001b[0mevaluation_result_list\u001b[0m\u001b[1;33m.\u001b[0m\u001b[0mextend\u001b[0m\u001b[1;33m(\u001b[0m\u001b[0mbooster\u001b[0m\u001b[1;33m.\u001b[0m\u001b[0meval_train\u001b[0m\u001b[1;33m(\u001b[0m\u001b[0mfeval\u001b[0m\u001b[1;33m)\u001b[0m\u001b[1;33m)\u001b[0m\u001b[1;33m\u001b[0m\u001b[1;33m\u001b[0m\u001b[0m\n\u001b[1;32m--> 256\u001b[1;33m             \u001b[0mevaluation_result_list\u001b[0m\u001b[1;33m.\u001b[0m\u001b[0mextend\u001b[0m\u001b[1;33m(\u001b[0m\u001b[0mbooster\u001b[0m\u001b[1;33m.\u001b[0m\u001b[0meval_valid\u001b[0m\u001b[1;33m(\u001b[0m\u001b[0mfeval\u001b[0m\u001b[1;33m)\u001b[0m\u001b[1;33m)\u001b[0m\u001b[1;33m\u001b[0m\u001b[1;33m\u001b[0m\u001b[0m\n\u001b[0m\u001b[0;32m    257\u001b[0m         \u001b[1;32mtry\u001b[0m\u001b[1;33m:\u001b[0m\u001b[1;33m\u001b[0m\u001b[1;33m\u001b[0m\u001b[0m\n\u001b[0;32m    258\u001b[0m             \u001b[1;32mfor\u001b[0m \u001b[0mcb\u001b[0m \u001b[1;32min\u001b[0m \u001b[0mcallbacks_after_iter\u001b[0m\u001b[1;33m:\u001b[0m\u001b[1;33m\u001b[0m\u001b[1;33m\u001b[0m\u001b[0m\n",
      "\u001b[1;32mZ:\\Users\\wayne\\Anaconda3\\lib\\site-packages\\lightgbm\\basic.py\u001b[0m in \u001b[0;36meval_valid\u001b[1;34m(self, feval)\u001b[0m\n\u001b[0;32m   2185\u001b[0m             \u001b[0mList\u001b[0m \u001b[1;32mwith\u001b[0m \u001b[0mevaluation\u001b[0m \u001b[0mresults\u001b[0m\u001b[1;33m.\u001b[0m\u001b[1;33m\u001b[0m\u001b[1;33m\u001b[0m\u001b[0m\n\u001b[0;32m   2186\u001b[0m         \"\"\"\n\u001b[1;32m-> 2187\u001b[1;33m         return [item for i in range_(1, self.__num_dataset)\n\u001b[0m\u001b[0;32m   2188\u001b[0m                 for item in self.__inner_eval(self.name_valid_sets[i - 1], i, feval)]\n\u001b[0;32m   2189\u001b[0m \u001b[1;33m\u001b[0m\u001b[0m\n",
      "\u001b[1;32mZ:\\Users\\wayne\\Anaconda3\\lib\\site-packages\\lightgbm\\basic.py\u001b[0m in \u001b[0;36m<listcomp>\u001b[1;34m(.0)\u001b[0m\n\u001b[0;32m   2186\u001b[0m         \"\"\"\n\u001b[0;32m   2187\u001b[0m         return [item for i in range_(1, self.__num_dataset)\n\u001b[1;32m-> 2188\u001b[1;33m                 for item in self.__inner_eval(self.name_valid_sets[i - 1], i, feval)]\n\u001b[0m\u001b[0;32m   2189\u001b[0m \u001b[1;33m\u001b[0m\u001b[0m\n\u001b[0;32m   2190\u001b[0m     \u001b[1;32mdef\u001b[0m \u001b[0msave_model\u001b[0m\u001b[1;33m(\u001b[0m\u001b[0mself\u001b[0m\u001b[1;33m,\u001b[0m \u001b[0mfilename\u001b[0m\u001b[1;33m,\u001b[0m \u001b[0mnum_iteration\u001b[0m\u001b[1;33m=\u001b[0m\u001b[1;32mNone\u001b[0m\u001b[1;33m,\u001b[0m \u001b[0mstart_iteration\u001b[0m\u001b[1;33m=\u001b[0m\u001b[1;36m0\u001b[0m\u001b[1;33m)\u001b[0m\u001b[1;33m:\u001b[0m\u001b[1;33m\u001b[0m\u001b[1;33m\u001b[0m\u001b[0m\n",
      "\u001b[1;32mZ:\\Users\\wayne\\Anaconda3\\lib\\site-packages\\lightgbm\\basic.py\u001b[0m in \u001b[0;36m__inner_eval\u001b[1;34m(self, data_name, data_idx, feval)\u001b[0m\n\u001b[0;32m   2656\u001b[0m             \u001b[1;32melse\u001b[0m\u001b[1;33m:\u001b[0m\u001b[1;33m\u001b[0m\u001b[1;33m\u001b[0m\u001b[0m\n\u001b[0;32m   2657\u001b[0m                 \u001b[0mcur_data\u001b[0m \u001b[1;33m=\u001b[0m \u001b[0mself\u001b[0m\u001b[1;33m.\u001b[0m\u001b[0mvalid_sets\u001b[0m\u001b[1;33m[\u001b[0m\u001b[0mdata_idx\u001b[0m \u001b[1;33m-\u001b[0m \u001b[1;36m1\u001b[0m\u001b[1;33m]\u001b[0m\u001b[1;33m\u001b[0m\u001b[1;33m\u001b[0m\u001b[0m\n\u001b[1;32m-> 2658\u001b[1;33m             \u001b[0mfeval_ret\u001b[0m \u001b[1;33m=\u001b[0m \u001b[0mfeval\u001b[0m\u001b[1;33m(\u001b[0m\u001b[0mself\u001b[0m\u001b[1;33m.\u001b[0m\u001b[0m__inner_predict\u001b[0m\u001b[1;33m(\u001b[0m\u001b[0mdata_idx\u001b[0m\u001b[1;33m)\u001b[0m\u001b[1;33m,\u001b[0m \u001b[0mcur_data\u001b[0m\u001b[1;33m)\u001b[0m\u001b[1;33m\u001b[0m\u001b[1;33m\u001b[0m\u001b[0m\n\u001b[0m\u001b[0;32m   2659\u001b[0m             \u001b[1;32mif\u001b[0m \u001b[0misinstance\u001b[0m\u001b[1;33m(\u001b[0m\u001b[0mfeval_ret\u001b[0m\u001b[1;33m,\u001b[0m \u001b[0mlist\u001b[0m\u001b[1;33m)\u001b[0m\u001b[1;33m:\u001b[0m\u001b[1;33m\u001b[0m\u001b[1;33m\u001b[0m\u001b[0m\n\u001b[0;32m   2660\u001b[0m                 \u001b[1;32mfor\u001b[0m \u001b[0meval_name\u001b[0m\u001b[1;33m,\u001b[0m \u001b[0mval\u001b[0m\u001b[1;33m,\u001b[0m \u001b[0mis_higher_better\u001b[0m \u001b[1;32min\u001b[0m \u001b[0mfeval_ret\u001b[0m\u001b[1;33m:\u001b[0m\u001b[1;33m\u001b[0m\u001b[1;33m\u001b[0m\u001b[0m\n",
      "\u001b[1;32m<ipython-input-4-602657815c4d>\u001b[0m in \u001b[0;36mlgb_f1_score\u001b[1;34m(y_hat, data)\u001b[0m\n\u001b[0;32m     31\u001b[0m     \u001b[0my_true\u001b[0m \u001b[1;33m=\u001b[0m \u001b[0mdata\u001b[0m\u001b[1;33m.\u001b[0m\u001b[0mget_label\u001b[0m\u001b[1;33m(\u001b[0m\u001b[1;33m)\u001b[0m\u001b[1;33m\u001b[0m\u001b[1;33m\u001b[0m\u001b[0m\n\u001b[0;32m     32\u001b[0m     \u001b[0my_hat\u001b[0m \u001b[1;33m=\u001b[0m \u001b[0mnp\u001b[0m\u001b[1;33m.\u001b[0m\u001b[0mround\u001b[0m\u001b[1;33m(\u001b[0m\u001b[0my_hat\u001b[0m\u001b[1;33m)\u001b[0m \u001b[1;31m# scikits f1 doesn't like probabilities\u001b[0m\u001b[1;33m\u001b[0m\u001b[1;33m\u001b[0m\u001b[0m\n\u001b[1;32m---> 33\u001b[1;33m     \u001b[1;32mreturn\u001b[0m \u001b[1;34m'f1'\u001b[0m\u001b[1;33m,\u001b[0m \u001b[0mround\u001b[0m\u001b[1;33m(\u001b[0m\u001b[0mf1_score\u001b[0m\u001b[1;33m(\u001b[0m\u001b[0my_true\u001b[0m\u001b[1;33m,\u001b[0m \u001b[0my_hat\u001b[0m\u001b[1;33m,\u001b[0m \u001b[0maverage\u001b[0m \u001b[1;33m=\u001b[0m \u001b[1;34m'weighted'\u001b[0m\u001b[1;33m)\u001b[0m \u001b[1;33m*\u001b[0m \u001b[1;36m100\u001b[0m\u001b[1;33m,\u001b[0m \u001b[1;36m2\u001b[0m\u001b[1;33m)\u001b[0m\u001b[1;33m,\u001b[0m \u001b[1;32mTrue\u001b[0m\u001b[1;33m\u001b[0m\u001b[1;33m\u001b[0m\u001b[0m\n\u001b[0m",
      "\u001b[1;32mZ:\\Users\\wayne\\Anaconda3\\lib\\site-packages\\sklearn\\metrics\\classification.py\u001b[0m in \u001b[0;36mf1_score\u001b[1;34m(y_true, y_pred, labels, pos_label, average, sample_weight)\u001b[0m\n\u001b[0;32m   1057\u001b[0m     return fbeta_score(y_true, y_pred, 1, labels=labels,\n\u001b[0;32m   1058\u001b[0m                        \u001b[0mpos_label\u001b[0m\u001b[1;33m=\u001b[0m\u001b[0mpos_label\u001b[0m\u001b[1;33m,\u001b[0m \u001b[0maverage\u001b[0m\u001b[1;33m=\u001b[0m\u001b[0maverage\u001b[0m\u001b[1;33m,\u001b[0m\u001b[1;33m\u001b[0m\u001b[1;33m\u001b[0m\u001b[0m\n\u001b[1;32m-> 1059\u001b[1;33m                        sample_weight=sample_weight)\n\u001b[0m\u001b[0;32m   1060\u001b[0m \u001b[1;33m\u001b[0m\u001b[0m\n\u001b[0;32m   1061\u001b[0m \u001b[1;33m\u001b[0m\u001b[0m\n",
      "\u001b[1;32mZ:\\Users\\wayne\\Anaconda3\\lib\\site-packages\\sklearn\\metrics\\classification.py\u001b[0m in \u001b[0;36mfbeta_score\u001b[1;34m(y_true, y_pred, beta, labels, pos_label, average, sample_weight)\u001b[0m\n\u001b[0;32m   1180\u001b[0m                                                  \u001b[0maverage\u001b[0m\u001b[1;33m=\u001b[0m\u001b[0maverage\u001b[0m\u001b[1;33m,\u001b[0m\u001b[1;33m\u001b[0m\u001b[1;33m\u001b[0m\u001b[0m\n\u001b[0;32m   1181\u001b[0m                                                  \u001b[0mwarn_for\u001b[0m\u001b[1;33m=\u001b[0m\u001b[1;33m(\u001b[0m\u001b[1;34m'f-score'\u001b[0m\u001b[1;33m,\u001b[0m\u001b[1;33m)\u001b[0m\u001b[1;33m,\u001b[0m\u001b[1;33m\u001b[0m\u001b[1;33m\u001b[0m\u001b[0m\n\u001b[1;32m-> 1182\u001b[1;33m                                                  sample_weight=sample_weight)\n\u001b[0m\u001b[0;32m   1183\u001b[0m     \u001b[1;32mreturn\u001b[0m \u001b[0mf\u001b[0m\u001b[1;33m\u001b[0m\u001b[1;33m\u001b[0m\u001b[0m\n\u001b[0;32m   1184\u001b[0m \u001b[1;33m\u001b[0m\u001b[0m\n",
      "\u001b[1;32mZ:\\Users\\wayne\\Anaconda3\\lib\\site-packages\\sklearn\\metrics\\classification.py\u001b[0m in \u001b[0;36mprecision_recall_fscore_support\u001b[1;34m(y_true, y_pred, beta, labels, pos_label, average, warn_for, sample_weight)\u001b[0m\n\u001b[0;32m   1413\u001b[0m         \u001b[1;32mraise\u001b[0m \u001b[0mValueError\u001b[0m\u001b[1;33m(\u001b[0m\u001b[1;34m\"beta should be >0 in the F-beta score\"\u001b[0m\u001b[1;33m)\u001b[0m\u001b[1;33m\u001b[0m\u001b[1;33m\u001b[0m\u001b[0m\n\u001b[0;32m   1414\u001b[0m     labels = _check_set_wise_labels(y_true, y_pred, average, labels,\n\u001b[1;32m-> 1415\u001b[1;33m                                     pos_label)\n\u001b[0m\u001b[0;32m   1416\u001b[0m \u001b[1;33m\u001b[0m\u001b[0m\n\u001b[0;32m   1417\u001b[0m     \u001b[1;31m# Calculate tp_sum, pred_sum, true_sum ###\u001b[0m\u001b[1;33m\u001b[0m\u001b[1;33m\u001b[0m\u001b[1;33m\u001b[0m\u001b[0m\n",
      "\u001b[1;32mZ:\\Users\\wayne\\Anaconda3\\lib\\site-packages\\sklearn\\metrics\\classification.py\u001b[0m in \u001b[0;36m_check_set_wise_labels\u001b[1;34m(y_true, y_pred, average, labels, pos_label)\u001b[0m\n\u001b[0;32m   1238\u001b[0m \u001b[1;33m\u001b[0m\u001b[0m\n\u001b[0;32m   1239\u001b[0m     \u001b[0my_type\u001b[0m\u001b[1;33m,\u001b[0m \u001b[0my_true\u001b[0m\u001b[1;33m,\u001b[0m \u001b[0my_pred\u001b[0m \u001b[1;33m=\u001b[0m \u001b[0m_check_targets\u001b[0m\u001b[1;33m(\u001b[0m\u001b[0my_true\u001b[0m\u001b[1;33m,\u001b[0m \u001b[0my_pred\u001b[0m\u001b[1;33m)\u001b[0m\u001b[1;33m\u001b[0m\u001b[1;33m\u001b[0m\u001b[0m\n\u001b[1;32m-> 1240\u001b[1;33m     \u001b[0mpresent_labels\u001b[0m \u001b[1;33m=\u001b[0m \u001b[0munique_labels\u001b[0m\u001b[1;33m(\u001b[0m\u001b[0my_true\u001b[0m\u001b[1;33m,\u001b[0m \u001b[0my_pred\u001b[0m\u001b[1;33m)\u001b[0m\u001b[1;33m\u001b[0m\u001b[1;33m\u001b[0m\u001b[0m\n\u001b[0m\u001b[0;32m   1241\u001b[0m     \u001b[1;32mif\u001b[0m \u001b[0maverage\u001b[0m \u001b[1;33m==\u001b[0m \u001b[1;34m'binary'\u001b[0m\u001b[1;33m:\u001b[0m\u001b[1;33m\u001b[0m\u001b[1;33m\u001b[0m\u001b[0m\n\u001b[0;32m   1242\u001b[0m         \u001b[1;32mif\u001b[0m \u001b[0my_type\u001b[0m \u001b[1;33m==\u001b[0m \u001b[1;34m'binary'\u001b[0m\u001b[1;33m:\u001b[0m\u001b[1;33m\u001b[0m\u001b[1;33m\u001b[0m\u001b[0m\n",
      "\u001b[1;32mZ:\\Users\\wayne\\Anaconda3\\lib\\site-packages\\sklearn\\utils\\multiclass.py\u001b[0m in \u001b[0;36munique_labels\u001b[1;34m(*ys)\u001b[0m\n\u001b[0;32m     73\u001b[0m     \u001b[1;31m# Check that we don't mix label format\u001b[0m\u001b[1;33m\u001b[0m\u001b[1;33m\u001b[0m\u001b[1;33m\u001b[0m\u001b[0m\n\u001b[0;32m     74\u001b[0m \u001b[1;33m\u001b[0m\u001b[0m\n\u001b[1;32m---> 75\u001b[1;33m     \u001b[0mys_types\u001b[0m \u001b[1;33m=\u001b[0m \u001b[0mset\u001b[0m\u001b[1;33m(\u001b[0m\u001b[0mtype_of_target\u001b[0m\u001b[1;33m(\u001b[0m\u001b[0mx\u001b[0m\u001b[1;33m)\u001b[0m \u001b[1;32mfor\u001b[0m \u001b[0mx\u001b[0m \u001b[1;32min\u001b[0m \u001b[0mys\u001b[0m\u001b[1;33m)\u001b[0m\u001b[1;33m\u001b[0m\u001b[1;33m\u001b[0m\u001b[0m\n\u001b[0m\u001b[0;32m     76\u001b[0m     \u001b[1;32mif\u001b[0m \u001b[0mys_types\u001b[0m \u001b[1;33m==\u001b[0m \u001b[1;33m{\u001b[0m\u001b[1;34m\"binary\"\u001b[0m\u001b[1;33m,\u001b[0m \u001b[1;34m\"multiclass\"\u001b[0m\u001b[1;33m}\u001b[0m\u001b[1;33m:\u001b[0m\u001b[1;33m\u001b[0m\u001b[1;33m\u001b[0m\u001b[0m\n\u001b[0;32m     77\u001b[0m         \u001b[0mys_types\u001b[0m \u001b[1;33m=\u001b[0m \u001b[1;33m{\u001b[0m\u001b[1;34m\"multiclass\"\u001b[0m\u001b[1;33m}\u001b[0m\u001b[1;33m\u001b[0m\u001b[1;33m\u001b[0m\u001b[0m\n",
      "\u001b[1;32mZ:\\Users\\wayne\\Anaconda3\\lib\\site-packages\\sklearn\\utils\\multiclass.py\u001b[0m in \u001b[0;36m<genexpr>\u001b[1;34m(.0)\u001b[0m\n\u001b[0;32m     73\u001b[0m     \u001b[1;31m# Check that we don't mix label format\u001b[0m\u001b[1;33m\u001b[0m\u001b[1;33m\u001b[0m\u001b[1;33m\u001b[0m\u001b[0m\n\u001b[0;32m     74\u001b[0m \u001b[1;33m\u001b[0m\u001b[0m\n\u001b[1;32m---> 75\u001b[1;33m     \u001b[0mys_types\u001b[0m \u001b[1;33m=\u001b[0m \u001b[0mset\u001b[0m\u001b[1;33m(\u001b[0m\u001b[0mtype_of_target\u001b[0m\u001b[1;33m(\u001b[0m\u001b[0mx\u001b[0m\u001b[1;33m)\u001b[0m \u001b[1;32mfor\u001b[0m \u001b[0mx\u001b[0m \u001b[1;32min\u001b[0m \u001b[0mys\u001b[0m\u001b[1;33m)\u001b[0m\u001b[1;33m\u001b[0m\u001b[1;33m\u001b[0m\u001b[0m\n\u001b[0m\u001b[0;32m     76\u001b[0m     \u001b[1;32mif\u001b[0m \u001b[0mys_types\u001b[0m \u001b[1;33m==\u001b[0m \u001b[1;33m{\u001b[0m\u001b[1;34m\"binary\"\u001b[0m\u001b[1;33m,\u001b[0m \u001b[1;34m\"multiclass\"\u001b[0m\u001b[1;33m}\u001b[0m\u001b[1;33m:\u001b[0m\u001b[1;33m\u001b[0m\u001b[1;33m\u001b[0m\u001b[0m\n\u001b[0;32m     77\u001b[0m         \u001b[0mys_types\u001b[0m \u001b[1;33m=\u001b[0m \u001b[1;33m{\u001b[0m\u001b[1;34m\"multiclass\"\u001b[0m\u001b[1;33m}\u001b[0m\u001b[1;33m\u001b[0m\u001b[1;33m\u001b[0m\u001b[0m\n",
      "\u001b[1;32mZ:\\Users\\wayne\\Anaconda3\\lib\\site-packages\\sklearn\\utils\\multiclass.py\u001b[0m in \u001b[0;36mtype_of_target\u001b[1;34m(y)\u001b[0m\n\u001b[0;32m    285\u001b[0m         \u001b[1;32mreturn\u001b[0m \u001b[1;34m'continuous'\u001b[0m \u001b[1;33m+\u001b[0m \u001b[0msuffix\u001b[0m\u001b[1;33m\u001b[0m\u001b[1;33m\u001b[0m\u001b[0m\n\u001b[0;32m    286\u001b[0m \u001b[1;33m\u001b[0m\u001b[0m\n\u001b[1;32m--> 287\u001b[1;33m     \u001b[1;32mif\u001b[0m \u001b[1;33m(\u001b[0m\u001b[0mlen\u001b[0m\u001b[1;33m(\u001b[0m\u001b[0mnp\u001b[0m\u001b[1;33m.\u001b[0m\u001b[0munique\u001b[0m\u001b[1;33m(\u001b[0m\u001b[0my\u001b[0m\u001b[1;33m)\u001b[0m\u001b[1;33m)\u001b[0m \u001b[1;33m>\u001b[0m \u001b[1;36m2\u001b[0m\u001b[1;33m)\u001b[0m \u001b[1;32mor\u001b[0m \u001b[1;33m(\u001b[0m\u001b[0my\u001b[0m\u001b[1;33m.\u001b[0m\u001b[0mndim\u001b[0m \u001b[1;33m>=\u001b[0m \u001b[1;36m2\u001b[0m \u001b[1;32mand\u001b[0m \u001b[0mlen\u001b[0m\u001b[1;33m(\u001b[0m\u001b[0my\u001b[0m\u001b[1;33m[\u001b[0m\u001b[1;36m0\u001b[0m\u001b[1;33m]\u001b[0m\u001b[1;33m)\u001b[0m \u001b[1;33m>\u001b[0m \u001b[1;36m1\u001b[0m\u001b[1;33m)\u001b[0m\u001b[1;33m:\u001b[0m\u001b[1;33m\u001b[0m\u001b[1;33m\u001b[0m\u001b[0m\n\u001b[0m\u001b[0;32m    288\u001b[0m         \u001b[1;32mreturn\u001b[0m \u001b[1;34m'multiclass'\u001b[0m \u001b[1;33m+\u001b[0m \u001b[0msuffix\u001b[0m  \u001b[1;31m# [1, 2, 3] or [[1., 2., 3]] or [[1, 2]]\u001b[0m\u001b[1;33m\u001b[0m\u001b[1;33m\u001b[0m\u001b[0m\n\u001b[0;32m    289\u001b[0m     \u001b[1;32melse\u001b[0m\u001b[1;33m:\u001b[0m\u001b[1;33m\u001b[0m\u001b[1;33m\u001b[0m\u001b[0m\n",
      "\u001b[1;32mZ:\\Users\\wayne\\Anaconda3\\lib\\site-packages\\numpy\\lib\\arraysetops.py\u001b[0m in \u001b[0;36munique\u001b[1;34m(ar, return_index, return_inverse, return_counts, axis)\u001b[0m\n\u001b[0;32m    262\u001b[0m     \u001b[0mar\u001b[0m \u001b[1;33m=\u001b[0m \u001b[0mnp\u001b[0m\u001b[1;33m.\u001b[0m\u001b[0masanyarray\u001b[0m\u001b[1;33m(\u001b[0m\u001b[0mar\u001b[0m\u001b[1;33m)\u001b[0m\u001b[1;33m\u001b[0m\u001b[1;33m\u001b[0m\u001b[0m\n\u001b[0;32m    263\u001b[0m     \u001b[1;32mif\u001b[0m \u001b[0maxis\u001b[0m \u001b[1;32mis\u001b[0m \u001b[1;32mNone\u001b[0m\u001b[1;33m:\u001b[0m\u001b[1;33m\u001b[0m\u001b[1;33m\u001b[0m\u001b[0m\n\u001b[1;32m--> 264\u001b[1;33m         \u001b[0mret\u001b[0m \u001b[1;33m=\u001b[0m \u001b[0m_unique1d\u001b[0m\u001b[1;33m(\u001b[0m\u001b[0mar\u001b[0m\u001b[1;33m,\u001b[0m \u001b[0mreturn_index\u001b[0m\u001b[1;33m,\u001b[0m \u001b[0mreturn_inverse\u001b[0m\u001b[1;33m,\u001b[0m \u001b[0mreturn_counts\u001b[0m\u001b[1;33m)\u001b[0m\u001b[1;33m\u001b[0m\u001b[1;33m\u001b[0m\u001b[0m\n\u001b[0m\u001b[0;32m    265\u001b[0m         \u001b[1;32mreturn\u001b[0m \u001b[0m_unpack_tuple\u001b[0m\u001b[1;33m(\u001b[0m\u001b[0mret\u001b[0m\u001b[1;33m)\u001b[0m\u001b[1;33m\u001b[0m\u001b[1;33m\u001b[0m\u001b[0m\n\u001b[0;32m    266\u001b[0m \u001b[1;33m\u001b[0m\u001b[0m\n",
      "\u001b[1;32mZ:\\Users\\wayne\\Anaconda3\\lib\\site-packages\\numpy\\lib\\arraysetops.py\u001b[0m in \u001b[0;36m_unique1d\u001b[1;34m(ar, return_index, return_inverse, return_counts)\u001b[0m\n\u001b[0;32m    310\u001b[0m         \u001b[0maux\u001b[0m \u001b[1;33m=\u001b[0m \u001b[0mar\u001b[0m\u001b[1;33m[\u001b[0m\u001b[0mperm\u001b[0m\u001b[1;33m]\u001b[0m\u001b[1;33m\u001b[0m\u001b[1;33m\u001b[0m\u001b[0m\n\u001b[0;32m    311\u001b[0m     \u001b[1;32melse\u001b[0m\u001b[1;33m:\u001b[0m\u001b[1;33m\u001b[0m\u001b[1;33m\u001b[0m\u001b[0m\n\u001b[1;32m--> 312\u001b[1;33m         \u001b[0mar\u001b[0m\u001b[1;33m.\u001b[0m\u001b[0msort\u001b[0m\u001b[1;33m(\u001b[0m\u001b[1;33m)\u001b[0m\u001b[1;33m\u001b[0m\u001b[1;33m\u001b[0m\u001b[0m\n\u001b[0m\u001b[0;32m    313\u001b[0m         \u001b[0maux\u001b[0m \u001b[1;33m=\u001b[0m \u001b[0mar\u001b[0m\u001b[1;33m\u001b[0m\u001b[1;33m\u001b[0m\u001b[0m\n\u001b[0;32m    314\u001b[0m     \u001b[0mmask\u001b[0m \u001b[1;33m=\u001b[0m \u001b[0mnp\u001b[0m\u001b[1;33m.\u001b[0m\u001b[0mempty\u001b[0m\u001b[1;33m(\u001b[0m\u001b[0maux\u001b[0m\u001b[1;33m.\u001b[0m\u001b[0mshape\u001b[0m\u001b[1;33m,\u001b[0m \u001b[0mdtype\u001b[0m\u001b[1;33m=\u001b[0m\u001b[0mnp\u001b[0m\u001b[1;33m.\u001b[0m\u001b[0mbool_\u001b[0m\u001b[1;33m)\u001b[0m\u001b[1;33m\u001b[0m\u001b[1;33m\u001b[0m\u001b[0m\n",
      "\u001b[1;31mKeyboardInterrupt\u001b[0m: "
     ]
    }
   ],
   "source": [
    "parameters = {**parameters, **best_params}\n",
    "print(parameters)\n",
    "evals_result = {}\n",
    "model = lgb.train(parameters,\n",
    "                       x_train,\n",
    "                       valid_sets=x_test,\n",
    "                       num_boost_round=10000,\n",
    "                       early_stopping_rounds=10000,\n",
    "                       feval=lgb_f1_score,\n",
    "                       evals_result=evals_result,\n",
    "                       verbose_eval=100)\n",
    "lgb.plot_metric(evals_result, metric='f1')"
   ]
  },
  {
   "cell_type": "code",
   "execution_count": null,
   "metadata": {},
   "outputs": [],
   "source": []
  }
 ],
 "metadata": {
  "kernelspec": {
   "display_name": "Python 3",
   "language": "python",
   "name": "python3"
  },
  "language_info": {
   "codemirror_mode": {
    "name": "ipython",
    "version": 3
   },
   "file_extension": ".py",
   "mimetype": "text/x-python",
   "name": "python",
   "nbconvert_exporter": "python",
   "pygments_lexer": "ipython3",
   "version": "3.7.4"
  }
 },
 "nbformat": 4,
 "nbformat_minor": 4
}
