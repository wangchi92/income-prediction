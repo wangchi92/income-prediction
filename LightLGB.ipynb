{
 "cells": [
  {
   "cell_type": "code",
   "execution_count": 1,
   "metadata": {},
   "outputs": [
    {
     "name": "stdout",
     "output_type": "stream",
     "text": [
      "Requirement already satisfied: lightgbm in z:\\users\\wayne\\anaconda3\\lib\\site-packages (2.3.1)\n",
      "Requirement already satisfied: optuna in z:\\users\\wayne\\anaconda3\\lib\\site-packages (1.3.0)\n",
      "Requirement already satisfied: scipy in z:\\users\\wayne\\anaconda3\\lib\\site-packages (from lightgbm) (1.3.1)\n",
      "Requirement already satisfied: numpy in z:\\users\\wayne\\anaconda3\\lib\\site-packages (from lightgbm) (1.16.5)\n",
      "Requirement already satisfied: scikit-learn in z:\\users\\wayne\\anaconda3\\lib\\site-packages (from lightgbm) (0.21.3)\n",
      "Requirement already satisfied: cliff in z:\\users\\wayne\\anaconda3\\lib\\site-packages (from optuna) (3.1.0)\n",
      "Requirement already satisfied: cmaes in z:\\users\\wayne\\anaconda3\\lib\\site-packages (from optuna) (0.5.0)\n",
      "Requirement already satisfied: sqlalchemy>=1.1.0 in z:\\users\\wayne\\anaconda3\\lib\\site-packages (from optuna) (1.3.9)\n",
      "Requirement already satisfied: alembic in z:\\users\\wayne\\anaconda3\\lib\\site-packages (from optuna) (1.4.2)\n",
      "Requirement already satisfied: tqdm in z:\\users\\wayne\\anaconda3\\lib\\site-packages (from optuna) (4.36.1)\n",
      "Requirement already satisfied: joblib in z:\\users\\wayne\\anaconda3\\lib\\site-packages (from optuna) (0.13.2)\n",
      "Requirement already satisfied: colorlog in z:\\users\\wayne\\anaconda3\\lib\\site-packages (from optuna) (4.1.0)\n",
      "Requirement already satisfied: PyYAML>=3.12 in z:\\users\\wayne\\anaconda3\\lib\\site-packages (from cliff->optuna) (5.1.2)\n",
      "Requirement already satisfied: stevedore>=1.20.0 in z:\\users\\wayne\\anaconda3\\lib\\site-packages (from cliff->optuna) (1.32.0)\n",
      "Requirement already satisfied: six>=1.10.0 in z:\\users\\wayne\\anaconda3\\lib\\site-packages (from cliff->optuna) (1.12.0)\n",
      "Requirement already satisfied: pbr!=2.1.0,>=2.0.0 in z:\\users\\wayne\\anaconda3\\lib\\site-packages (from cliff->optuna) (5.4.5)\n",
      "Requirement already satisfied: cmd2!=0.8.3,<0.9.0,>=0.8.0 in z:\\users\\wayne\\anaconda3\\lib\\site-packages (from cliff->optuna) (0.8.9)\n",
      "Requirement already satisfied: PrettyTable<0.8,>=0.7.2 in z:\\users\\wayne\\anaconda3\\lib\\site-packages (from cliff->optuna) (0.7.2)\n",
      "Requirement already satisfied: pyparsing>=2.1.0 in z:\\users\\wayne\\anaconda3\\lib\\site-packages (from cliff->optuna) (2.4.2)\n",
      "Requirement already satisfied: python-dateutil in z:\\users\\wayne\\anaconda3\\lib\\site-packages (from alembic->optuna) (2.8.0)\n",
      "Requirement already satisfied: Mako in z:\\users\\wayne\\anaconda3\\lib\\site-packages (from alembic->optuna) (1.1.2)\n",
      "Requirement already satisfied: python-editor>=0.3 in z:\\users\\wayne\\anaconda3\\lib\\site-packages (from alembic->optuna) (1.0.4)\n",
      "Requirement already satisfied: colorama; sys_platform == \"win32\" in z:\\users\\wayne\\anaconda3\\lib\\site-packages (from colorlog->optuna) (0.4.1)\n",
      "Requirement already satisfied: pyperclip in z:\\users\\wayne\\anaconda3\\lib\\site-packages (from cmd2!=0.8.3,<0.9.0,>=0.8.0->cliff->optuna) (1.8.0)\n",
      "Requirement already satisfied: pyreadline; sys_platform == \"win32\" in z:\\users\\wayne\\anaconda3\\lib\\site-packages (from cmd2!=0.8.3,<0.9.0,>=0.8.0->cliff->optuna) (2.1)\n",
      "Requirement already satisfied: MarkupSafe>=0.9.2 in z:\\users\\wayne\\anaconda3\\lib\\site-packages (from Mako->alembic->optuna) (1.1.1)\n"
     ]
    }
   ],
   "source": [
    "# install packages if not installed yet\n",
    "import sys\n",
    "!{sys.executable} -m pip install lightgbm optuna"
   ]
  },
  {
   "cell_type": "code",
   "execution_count": 5,
   "metadata": {},
   "outputs": [],
   "source": [
    "# imports\n",
    "\n",
    "# data manipulation\n",
    "import pandas as pd\n",
    "import numpy as np\n",
    "\n",
    "# model evaluation\n",
    "from sklearn.metrics import f1_score\n",
    "\n",
    "# model training\n",
    "from sklearn.model_selection import train_test_split\n",
    "\n",
    "# lightgbm\n",
    "import lightgbm as lgb\n",
    "# optuna is the tuning automation tool\n",
    "import optuna\n",
    "import optuna.integration.lightgbm as optunalgb"
   ]
  },
  {
   "cell_type": "code",
   "execution_count": 2,
   "metadata": {},
   "outputs": [],
   "source": [
    "# load data\n",
    "train_file = './data/train.csv'\n",
    "train_data = pd.read_csv(train_file)\n",
    "train_data = pd.DataFrame(data=train_data)\n",
    "\n",
    "test_file = './data/test.csv'\n",
    "test_data = pd.read_csv(test_file)\n",
    "test_data = pd.DataFrame(data=test_data)"
   ]
  },
  {
   "cell_type": "code",
   "execution_count": 71,
   "metadata": {},
   "outputs": [
    {
     "name": "stdout",
     "output_type": "stream",
     "text": [
      "   age  workclass  fnlwgt  education-num  marital-status  occupation  \\\n",
      "0   30          0  147215             10               4           0   \n",
      "1   60          4  173960             13               0          10   \n",
      "2   52          0  105428             10               2           0   \n",
      "3   37          4  112497             13               2          12   \n",
      "4   63          4  137843             10               2          12   \n",
      "\n",
      "   relationship  sex  capital-gain  capital-loss  hours-per-week  \\\n",
      "0             3    0             0             0              30   \n",
      "1             1    0             0             0              42   \n",
      "2             0    1             0             0              12   \n",
      "3             0    1             0             0              60   \n",
      "4             0    1          7298             0              48   \n",
      "\n",
      "   native-country  \n",
      "0              38  \n",
      "1              38  \n",
      "2              38  \n",
      "3              38  \n",
      "4              38  \n"
     ]
    }
   ],
   "source": [
    "#prepare dataset\n",
    "def convertCategoricalValuesToInt(df, columns):\n",
    "    output = df.copy();\n",
    "    \n",
    "    output[columns] = output[columns].astype('category')\n",
    "    cat_columns = output.select_dtypes(['category']).columns\n",
    "    output[cat_columns] = output[cat_columns].apply(lambda x: x.cat.codes)\n",
    "    \n",
    "    return output;\n",
    "\n",
    "#train_data_lgb = train_data.drop(['native-country', 'education', 'fnlwgt'], axis=1)\n",
    "#test_data_lgb = test_data.drop(['native-country', 'education', 'fnlwgt'], axis=1)\n",
    "train_data_lgb = train_data.drop(['education'], axis=1)\n",
    "test_data_lgb = test_data.drop(['education'], axis=1)\n",
    "\n",
    "x_train = train_data_lgb.drop('exceeds50K', axis=1)\n",
    "y_train = train_data_lgb['exceeds50K']\n",
    "x_test = test_data_lgb\n",
    "\n",
    "features = x_train.columns\n",
    "categorical_features = ['workclass', 'marital-status', 'occupation', 'relationship', 'sex', 'native-country']\n",
    "categorical_features_numbered = [c for c, col in enumerate(features) if col in categorical_features]\n",
    "\n",
    "x_train = convertCategoricalValuesToInt(x_train, categorical_features)\n",
    "x_test = convertCategoricalValuesToInt(x_test, categorical_features)\n",
    "print(x_train.head())\n",
    "\n",
    "x_train, x_valid, y_train, y_valid = train_test_split(x_train, y_train, test_size=0.25, random_state=42, shuffle=True)\n",
    "\n",
    "x_train = optunalgb.Dataset(x_train, label=y_train, categorical_feature=categorical_features_numbered, free_raw_data=False)\n",
    "x_valid = optunalgb.Dataset(x_valid, label=y_valid, free_raw_data=False)\n",
    "\n",
    "def lgb_f1_score(y_hat, data):\n",
    "    y_true = data.get_label()\n",
    "    y_hat = np.round(y_hat) # scikits f1 doesn't like probabilities\n",
    "    return 'f1', round(f1_score(y_true, y_hat, average = 'weighted') * 100, 2), True"
   ]
  },
  {
   "cell_type": "code",
   "execution_count": 10,
   "metadata": {},
   "outputs": [
    {
     "name": "stderr",
     "output_type": "stream",
     "text": [
      "\n",
      "\n",
      "  0%|                                                                                            | 0/7 [00:00<?, ?it/s]\n",
      "\n",
      "tune_feature_fraction, val_score: inf:   0%|                                                     | 0/7 [00:00<?, ?it/s]Z:\\Users\\wayne\\Anaconda3\\lib\\site-packages\\sklearn\\metrics\\classification.py:1437: UndefinedMetricWarning: F-score is ill-defined and being set to 0.0 in labels with no predicted samples.\n",
      "  'precision', 'predicted', average, warn_for)\n"
     ]
    },
    {
     "name": "stdout",
     "output_type": "stream",
     "text": [
      "Training until validation scores don't improve for 100 rounds\n",
      "Early stopping, best iteration is:\n",
      "[531]\tvalid_0's f1: 87.13\n"
     ]
    },
    {
     "name": "stderr",
     "output_type": "stream",
     "text": [
      "\n",
      "\n",
      "tune_feature_fraction, val_score: 87.130000:   0%|                                               | 0/7 [00:03<?, ?it/s]\n",
      "\n",
      "tune_feature_fraction, val_score: 87.130000:  14%|#####5                                 | 1/7 [00:03<00:20,  3.40s/it][I 2020-05-01 17:28:04,569] Finished trial#0 with value: 87.13 with parameters: {'feature_fraction': 0.4}. Best is trial#0 with value: 87.13.\n",
      "\n",
      "\n",
      "tune_feature_fraction, val_score: 87.130000:  14%|#####5                                 | 1/7 [00:03<00:20,  3.40s/it]"
     ]
    },
    {
     "name": "stdout",
     "output_type": "stream",
     "text": [
      "Training until validation scores don't improve for 100 rounds\n",
      "Early stopping, best iteration is:\n",
      "[445]\tvalid_0's f1: 87.17\n"
     ]
    },
    {
     "name": "stderr",
     "output_type": "stream",
     "text": [
      "\n",
      "\n",
      "tune_feature_fraction, val_score: 87.130000:  14%|#####5                                 | 1/7 [00:06<00:20,  3.40s/it]\n",
      "\n",
      "tune_feature_fraction, val_score: 87.130000:  29%|###########1                           | 2/7 [00:06<00:16,  3.26s/it][I 2020-05-01 17:28:07,496] Finished trial#1 with value: 87.17 with parameters: {'feature_fraction': 0.5}. Best is trial#0 with value: 87.13.\n",
      "\n",
      "\n",
      "tune_feature_fraction, val_score: 87.130000:  29%|###########1                           | 2/7 [00:06<00:16,  3.26s/it]"
     ]
    },
    {
     "name": "stdout",
     "output_type": "stream",
     "text": [
      "Training until validation scores don't improve for 100 rounds\n",
      "Early stopping, best iteration is:\n",
      "[407]\tvalid_0's f1: 87.23\n"
     ]
    },
    {
     "name": "stderr",
     "output_type": "stream",
     "text": [
      "\n",
      "\n",
      "tune_feature_fraction, val_score: 87.130000:  29%|###########1                           | 2/7 [00:09<00:16,  3.26s/it]\n",
      "\n",
      "tune_feature_fraction, val_score: 87.130000:  43%|################7                      | 3/7 [00:09<00:12,  3.11s/it][I 2020-05-01 17:28:10,260] Finished trial#2 with value: 87.23 with parameters: {'feature_fraction': 0.6}. Best is trial#0 with value: 87.13.\n",
      "\n",
      "\n",
      "tune_feature_fraction, val_score: 87.130000:  43%|################7                      | 3/7 [00:09<00:12,  3.11s/it]"
     ]
    },
    {
     "name": "stdout",
     "output_type": "stream",
     "text": [
      "Training until validation scores don't improve for 100 rounds\n",
      "Early stopping, best iteration is:\n",
      "[381]\tvalid_0's f1: 87.22\n"
     ]
    },
    {
     "name": "stderr",
     "output_type": "stream",
     "text": [
      "\n",
      "\n",
      "tune_feature_fraction, val_score: 87.130000:  43%|################7                      | 3/7 [00:11<00:12,  3.11s/it]\n",
      "\n",
      "tune_feature_fraction, val_score: 87.130000:  57%|######################2                | 4/7 [00:11<00:08,  2.96s/it][I 2020-05-01 17:28:12,875] Finished trial#3 with value: 87.22 with parameters: {'feature_fraction': 0.7}. Best is trial#0 with value: 87.13.\n",
      "\n",
      "\n",
      "tune_feature_fraction, val_score: 87.130000:  57%|######################2                | 4/7 [00:11<00:08,  2.96s/it]"
     ]
    },
    {
     "name": "stdout",
     "output_type": "stream",
     "text": [
      "Training until validation scores don't improve for 100 rounds\n",
      "Early stopping, best iteration is:\n",
      "[520]\tvalid_0's f1: 87.23\n"
     ]
    },
    {
     "name": "stderr",
     "output_type": "stream",
     "text": [
      "\n",
      "\n",
      "tune_feature_fraction, val_score: 87.130000:  57%|######################2                | 4/7 [00:15<00:08,  2.96s/it]\n",
      "\n",
      "tune_feature_fraction, val_score: 87.130000:  71%|###########################8           | 5/7 [00:15<00:06,  3.09s/it][I 2020-05-01 17:28:16,263] Finished trial#4 with value: 87.23 with parameters: {'feature_fraction': 0.8}. Best is trial#0 with value: 87.13.\n",
      "\n",
      "\n",
      "tune_feature_fraction, val_score: 87.130000:  71%|###########################8           | 5/7 [00:15<00:06,  3.09s/it]"
     ]
    },
    {
     "name": "stdout",
     "output_type": "stream",
     "text": [
      "Training until validation scores don't improve for 100 rounds\n",
      "Early stopping, best iteration is:\n",
      "[450]\tvalid_0's f1: 87.12\n"
     ]
    },
    {
     "name": "stderr",
     "output_type": "stream",
     "text": [
      "\n",
      "\n",
      "tune_feature_fraction, val_score: 87.120000:  71%|###########################8           | 5/7 [00:18<00:06,  3.09s/it]\n",
      "\n",
      "tune_feature_fraction, val_score: 87.120000:  86%|#################################4     | 6/7 [00:18<00:03,  3.06s/it][I 2020-05-01 17:28:19,258] Finished trial#5 with value: 87.12 with parameters: {'feature_fraction': 0.8999999999999999}. Best is trial#5 with value: 87.12.\n",
      "\n",
      "\n",
      "tune_feature_fraction, val_score: 87.120000:  86%|#################################4     | 6/7 [00:18<00:03,  3.06s/it]"
     ]
    },
    {
     "name": "stdout",
     "output_type": "stream",
     "text": [
      "Training until validation scores don't improve for 100 rounds\n",
      "Early stopping, best iteration is:\n",
      "[493]\tvalid_0's f1: 87.07\n"
     ]
    },
    {
     "name": "stderr",
     "output_type": "stream",
     "text": [
      "\n",
      "\n",
      "tune_feature_fraction, val_score: 87.070000:  86%|#################################4     | 6/7 [00:21<00:03,  3.06s/it]\n",
      "\n",
      "tune_feature_fraction, val_score: 87.070000: 100%|#######################################| 7/7 [00:21<00:00,  3.12s/it][I 2020-05-01 17:28:22,502] Finished trial#6 with value: 87.07 with parameters: {'feature_fraction': 1.0}. Best is trial#6 with value: 87.07.\n",
      "tune_feature_fraction, val_score: 87.070000: 100%|#######################################| 7/7 [00:21<00:00,  3.06s/it]\n",
      "\n",
      "\n",
      "  0%|                                                                                           | 0/20 [00:00<?, ?it/s]\n",
      "\n",
      "tune_num_leaves, val_score: 87.070000:   0%|                                                    | 0/20 [00:00<?, ?it/s]"
     ]
    },
    {
     "name": "stdout",
     "output_type": "stream",
     "text": [
      "Training until validation scores don't improve for 100 rounds\n",
      "Early stopping, best iteration is:\n",
      "[597]\tvalid_0's f1: 87.01\n"
     ]
    },
    {
     "name": "stderr",
     "output_type": "stream",
     "text": [
      "\n",
      "\n",
      "tune_num_leaves, val_score: 87.010000:   0%|                                                    | 0/20 [00:04<?, ?it/s]\n",
      "\n",
      "tune_num_leaves, val_score: 87.010000:   5%|##2                                         | 1/20 [00:04<01:25,  4.48s/it][I 2020-05-01 17:28:27,059] Finished trial#0 with value: 87.01 with parameters: {'num_leaves': 73}. Best is trial#0 with value: 87.01.\n",
      "\n",
      "\n",
      "tune_num_leaves, val_score: 87.010000:   5%|##2                                         | 1/20 [00:04<01:25,  4.48s/it]"
     ]
    },
    {
     "name": "stdout",
     "output_type": "stream",
     "text": [
      "Training until validation scores don't improve for 100 rounds\n",
      "Early stopping, best iteration is:\n",
      "[224]\tvalid_0's f1: 86.54\n"
     ]
    },
    {
     "name": "stderr",
     "output_type": "stream",
     "text": [
      "\n",
      "\n",
      "tune_num_leaves, val_score: 86.540000:   5%|##2                                         | 1/20 [00:07<01:25,  4.48s/it]\n",
      "\n",
      "tune_num_leaves, val_score: 86.540000:  10%|####4                                       | 2/20 [00:07<01:10,  3.91s/it][I 2020-05-01 17:28:29,633] Finished trial#1 with value: 86.54 with parameters: {'num_leaves': 137}. Best is trial#1 with value: 86.54.\n",
      "\n",
      "\n",
      "tune_num_leaves, val_score: 86.540000:  10%|####4                                       | 2/20 [00:07<01:10,  3.91s/it]"
     ]
    },
    {
     "name": "stdout",
     "output_type": "stream",
     "text": [
      "Training until validation scores don't improve for 100 rounds\n",
      "Early stopping, best iteration is:\n",
      "[253]\tvalid_0's f1: 86.54\n"
     ]
    },
    {
     "name": "stderr",
     "output_type": "stream",
     "text": [
      "\n",
      "\n",
      "tune_num_leaves, val_score: 86.540000:  10%|####4                                       | 2/20 [00:10<01:10,  3.91s/it]\n",
      "\n",
      "tune_num_leaves, val_score: 86.540000:  15%|######6                                     | 3/20 [00:10<01:04,  3.81s/it][I 2020-05-01 17:28:33,213] Finished trial#2 with value: 86.54 with parameters: {'num_leaves': 242}. Best is trial#1 with value: 86.54.\n",
      "\n",
      "\n",
      "tune_num_leaves, val_score: 86.540000:  15%|######6                                     | 3/20 [00:10<01:04,  3.81s/it]"
     ]
    },
    {
     "name": "stdout",
     "output_type": "stream",
     "text": [
      "Training until validation scores don't improve for 100 rounds\n",
      "Early stopping, best iteration is:\n",
      "[264]\tvalid_0's f1: 86.54\n"
     ]
    },
    {
     "name": "stderr",
     "output_type": "stream",
     "text": [
      "\n",
      "\n",
      "tune_num_leaves, val_score: 86.540000:  15%|######6                                     | 3/20 [00:13<01:04,  3.81s/it]\n",
      "\n",
      "tune_num_leaves, val_score: 86.540000:  20%|########8                                   | 4/20 [00:13<00:58,  3.63s/it][I 2020-05-01 17:28:36,426] Finished trial#3 with value: 86.54 with parameters: {'num_leaves': 181}. Best is trial#1 with value: 86.54.\n",
      "\n",
      "\n",
      "tune_num_leaves, val_score: 86.540000:  20%|########8                                   | 4/20 [00:13<00:58,  3.63s/it]"
     ]
    },
    {
     "name": "stdout",
     "output_type": "stream",
     "text": [
      "Training until validation scores don't improve for 100 rounds\n",
      "Early stopping, best iteration is:\n",
      "[373]\tvalid_0's f1: 87.07\n"
     ]
    },
    {
     "name": "stderr",
     "output_type": "stream",
     "text": [
      "\n",
      "\n",
      "tune_num_leaves, val_score: 86.540000:  20%|########8                                   | 4/20 [00:16<00:58,  3.63s/it]\n",
      "\n",
      "tune_num_leaves, val_score: 86.540000:  25%|###########                                 | 5/20 [00:16<00:50,  3.37s/it][I 2020-05-01 17:28:39,194] Finished trial#4 with value: 87.07 with parameters: {'num_leaves': 43}. Best is trial#1 with value: 86.54.\n",
      "\n",
      "\n",
      "tune_num_leaves, val_score: 86.540000:  25%|###########                                 | 5/20 [00:16<00:50,  3.37s/it]"
     ]
    },
    {
     "name": "stdout",
     "output_type": "stream",
     "text": [
      "Training until validation scores don't improve for 100 rounds\n",
      "Early stopping, best iteration is:\n",
      "[259]\tvalid_0's f1: 86.49\n"
     ]
    },
    {
     "name": "stderr",
     "output_type": "stream",
     "text": [
      "\n",
      "\n",
      "tune_num_leaves, val_score: 86.490000:  25%|###########                                 | 5/20 [00:19<00:50,  3.37s/it]\n",
      "\n",
      "tune_num_leaves, val_score: 86.490000:  30%|#############2                              | 6/20 [00:19<00:47,  3.36s/it][I 2020-05-01 17:28:42,540] Finished trial#5 with value: 86.49 with parameters: {'num_leaves': 198}. Best is trial#5 with value: 86.49.\n",
      "\n",
      "\n",
      "tune_num_leaves, val_score: 86.490000:  30%|#############2                              | 6/20 [00:20<00:47,  3.36s/it]"
     ]
    },
    {
     "name": "stdout",
     "output_type": "stream",
     "text": [
      "Training until validation scores don't improve for 100 rounds\n",
      "Early stopping, best iteration is:\n",
      "[263]\tvalid_0's f1: 86.74\n"
     ]
    },
    {
     "name": "stderr",
     "output_type": "stream",
     "text": [
      "\n",
      "\n",
      "tune_num_leaves, val_score: 86.490000:  30%|#############2                              | 6/20 [00:22<00:47,  3.36s/it]\n",
      "\n",
      "tune_num_leaves, val_score: 86.490000:  35%|###############4                            | 7/20 [00:22<00:40,  3.12s/it][I 2020-05-01 17:28:45,090] Finished trial#6 with value: 86.74 with parameters: {'num_leaves': 93}. Best is trial#5 with value: 86.49.\n",
      "\n",
      "\n",
      "tune_num_leaves, val_score: 86.490000:  35%|###############4                            | 7/20 [00:22<00:40,  3.12s/it]"
     ]
    },
    {
     "name": "stdout",
     "output_type": "stream",
     "text": [
      "Training until validation scores don't improve for 100 rounds\n",
      "Early stopping, best iteration is:\n",
      "[310]\tvalid_0's f1: 86.91\n"
     ]
    },
    {
     "name": "stderr",
     "output_type": "stream",
     "text": [
      "\n",
      "\n",
      "tune_num_leaves, val_score: 86.490000:  35%|###############4                            | 7/20 [00:24<00:40,  3.12s/it]\n",
      "\n",
      "tune_num_leaves, val_score: 86.490000:  40%|#################6                          | 8/20 [00:24<00:34,  2.91s/it][I 2020-05-01 17:28:47,500] Finished trial#7 with value: 86.91 with parameters: {'num_leaves': 46}. Best is trial#5 with value: 86.49.\n",
      "\n",
      "\n",
      "tune_num_leaves, val_score: 86.490000:  40%|#################6                          | 8/20 [00:24<00:34,  2.91s/it]"
     ]
    },
    {
     "name": "stdout",
     "output_type": "stream",
     "text": [
      "Training until validation scores don't improve for 100 rounds\n",
      "Early stopping, best iteration is:\n",
      "[241]\tvalid_0's f1: 86.46\n"
     ]
    },
    {
     "name": "stderr",
     "output_type": "stream",
     "text": [
      "\n",
      "\n",
      "tune_num_leaves, val_score: 86.460000:  40%|#################6                          | 8/20 [00:28<00:34,  2.91s/it]\n",
      "\n",
      "tune_num_leaves, val_score: 86.460000:  45%|###################8                        | 9/20 [00:28<00:33,  3.04s/it][I 2020-05-01 17:28:50,859] Finished trial#8 with value: 86.46 with parameters: {'num_leaves': 233}. Best is trial#8 with value: 86.46.\n",
      "\n",
      "\n",
      "tune_num_leaves, val_score: 86.460000:  45%|###################8                        | 9/20 [00:28<00:33,  3.04s/it]"
     ]
    },
    {
     "name": "stdout",
     "output_type": "stream",
     "text": [
      "Training until validation scores don't improve for 100 rounds\n",
      "Early stopping, best iteration is:\n",
      "[222]\tvalid_0's f1: 86.45\n"
     ]
    },
    {
     "name": "stderr",
     "output_type": "stream",
     "text": [
      "\n",
      "\n",
      "tune_num_leaves, val_score: 86.450000:  45%|###################8                        | 9/20 [00:30<00:33,  3.04s/it]\n",
      "\n",
      "tune_num_leaves, val_score: 86.450000:  50%|#####################5                     | 10/20 [00:30<00:28,  2.89s/it][I 2020-05-01 17:28:53,383] Finished trial#9 with value: 86.45 with parameters: {'num_leaves': 131}. Best is trial#9 with value: 86.45.\n",
      "\n",
      "\n",
      "tune_num_leaves, val_score: 86.450000:  50%|#####################5                     | 10/20 [00:30<00:28,  2.89s/it]"
     ]
    },
    {
     "name": "stdout",
     "output_type": "stream",
     "text": [
      "Training until validation scores don't improve for 100 rounds\n",
      "Early stopping, best iteration is:\n",
      "[231]\tvalid_0's f1: 86.45\n"
     ]
    },
    {
     "name": "stderr",
     "output_type": "stream",
     "text": [
      "\n",
      "\n",
      "tune_num_leaves, val_score: 86.450000:  50%|#####################5                     | 10/20 [00:33<00:28,  2.89s/it]\n",
      "\n",
      "tune_num_leaves, val_score: 86.450000:  55%|#######################6                   | 11/20 [00:33<00:25,  2.83s/it][I 2020-05-01 17:28:56,098] Finished trial#10 with value: 86.45 with parameters: {'num_leaves': 138}. Best is trial#9 with value: 86.45.\n",
      "\n",
      "\n",
      "tune_num_leaves, val_score: 86.450000:  55%|#######################6                   | 11/20 [00:33<00:25,  2.83s/it]"
     ]
    },
    {
     "name": "stdout",
     "output_type": "stream",
     "text": [
      "Training until validation scores don't improve for 100 rounds\n",
      "Early stopping, best iteration is:\n",
      "[227]\tvalid_0's f1: 86.54\n"
     ]
    },
    {
     "name": "stderr",
     "output_type": "stream",
     "text": [
      "\n",
      "\n",
      "tune_num_leaves, val_score: 86.450000:  55%|#######################6                   | 11/20 [00:36<00:25,  2.83s/it]\n",
      "\n",
      "tune_num_leaves, val_score: 86.450000:  60%|#########################8                 | 12/20 [00:36<00:22,  2.76s/it][I 2020-05-01 17:28:58,685] Finished trial#11 with value: 86.54 with parameters: {'num_leaves': 136}. Best is trial#9 with value: 86.45.\n",
      "\n",
      "\n",
      "tune_num_leaves, val_score: 86.450000:  60%|#########################8                 | 12/20 [00:36<00:22,  2.76s/it]"
     ]
    },
    {
     "name": "stdout",
     "output_type": "stream",
     "text": [
      "Training until validation scores don't improve for 100 rounds\n",
      "Early stopping, best iteration is:\n",
      "[226]\tvalid_0's f1: 86.49\n"
     ]
    },
    {
     "name": "stderr",
     "output_type": "stream",
     "text": [
      "\n",
      "\n",
      "tune_num_leaves, val_score: 86.450000:  60%|#########################8                 | 12/20 [00:38<00:22,  2.76s/it]\n",
      "\n",
      "tune_num_leaves, val_score: 86.450000:  65%|###########################9               | 13/20 [00:38<00:19,  2.77s/it][I 2020-05-01 17:29:01,480] Finished trial#12 with value: 86.49 with parameters: {'num_leaves': 168}. Best is trial#9 with value: 86.45.\n",
      "\n",
      "\n",
      "tune_num_leaves, val_score: 86.450000:  65%|###########################9               | 13/20 [00:38<00:19,  2.77s/it]"
     ]
    },
    {
     "name": "stdout",
     "output_type": "stream",
     "text": [
      "Training until validation scores don't improve for 100 rounds\n",
      "Early stopping, best iteration is:\n",
      "[240]\tvalid_0's f1: 86.63\n"
     ]
    },
    {
     "name": "stderr",
     "output_type": "stream",
     "text": [
      "\n",
      "\n",
      "tune_num_leaves, val_score: 86.450000:  65%|###########################9               | 13/20 [00:41<00:19,  2.77s/it]\n",
      "\n",
      "tune_num_leaves, val_score: 86.450000:  70%|##############################1            | 14/20 [00:41<00:16,  2.70s/it][I 2020-05-01 17:29:04,019] Finished trial#13 with value: 86.63 with parameters: {'num_leaves': 112}. Best is trial#9 with value: 86.45.\n",
      "\n",
      "\n",
      "tune_num_leaves, val_score: 86.450000:  70%|##############################1            | 14/20 [00:41<00:16,  2.70s/it]"
     ]
    },
    {
     "name": "stdout",
     "output_type": "stream",
     "text": [
      "Training until validation scores don't improve for 100 rounds\n",
      "Early stopping, best iteration is:\n",
      "[224]\tvalid_0's f1: 86.49\n"
     ]
    },
    {
     "name": "stderr",
     "output_type": "stream",
     "text": [
      "\n",
      "\n",
      "tune_num_leaves, val_score: 86.450000:  70%|##############################1            | 14/20 [00:44<00:16,  2.70s/it]\n",
      "\n",
      "tune_num_leaves, val_score: 86.450000:  75%|################################2          | 15/20 [00:44<00:13,  2.71s/it][I 2020-05-01 17:29:06,751] Finished trial#14 with value: 86.49 with parameters: {'num_leaves': 151}. Best is trial#9 with value: 86.45.\n",
      "\n",
      "\n",
      "tune_num_leaves, val_score: 86.450000:  75%|################################2          | 15/20 [00:44<00:13,  2.71s/it]"
     ]
    },
    {
     "name": "stdout",
     "output_type": "stream",
     "text": [
      "Training until validation scores don't improve for 100 rounds\n",
      "[1000]\tvalid_0's f1: 86.68\n",
      "Did not meet early stopping. Best iteration is:\n",
      "[976]\tvalid_0's f1: 86.69\n"
     ]
    },
    {
     "name": "stderr",
     "output_type": "stream",
     "text": [
      "\n",
      "\n",
      "tune_num_leaves, val_score: 86.450000:  75%|################################2          | 15/20 [00:48<00:13,  2.71s/it]\n",
      "\n",
      "tune_num_leaves, val_score: 86.450000:  80%|##################################4        | 16/20 [00:48<00:13,  3.25s/it][I 2020-05-01 17:29:11,265] Finished trial#15 with value: 86.69 with parameters: {'num_leaves': 7}. Best is trial#9 with value: 86.45.\n",
      "\n",
      "\n",
      "tune_num_leaves, val_score: 86.450000:  80%|##################################4        | 16/20 [00:48<00:13,  3.25s/it]"
     ]
    },
    {
     "name": "stdout",
     "output_type": "stream",
     "text": [
      "Training until validation scores don't improve for 100 rounds\n",
      "Early stopping, best iteration is:\n",
      "[221]\tvalid_0's f1: 86.4\n"
     ]
    },
    {
     "name": "stderr",
     "output_type": "stream",
     "text": [
      "\n",
      "\n",
      "tune_num_leaves, val_score: 86.400000:  80%|##################################4        | 16/20 [00:51<00:13,  3.25s/it]\n",
      "\n",
      "tune_num_leaves, val_score: 86.400000:  85%|####################################5      | 17/20 [00:51<00:09,  3.16s/it][I 2020-05-01 17:29:14,194] Finished trial#16 with value: 86.4 with parameters: {'num_leaves': 201}. Best is trial#16 with value: 86.4.\n",
      "\n",
      "\n",
      "tune_num_leaves, val_score: 86.400000:  85%|####################################5      | 17/20 [00:51<00:09,  3.16s/it]"
     ]
    },
    {
     "name": "stdout",
     "output_type": "stream",
     "text": [
      "Training until validation scores don't improve for 100 rounds\n",
      "Early stopping, best iteration is:\n",
      "[247]\tvalid_0's f1: 86.62\n"
     ]
    },
    {
     "name": "stderr",
     "output_type": "stream",
     "text": [
      "\n",
      "\n",
      "tune_num_leaves, val_score: 86.400000:  85%|####################################5      | 17/20 [00:54<00:09,  3.16s/it]\n",
      "\n",
      "tune_num_leaves, val_score: 86.400000:  90%|######################################7    | 18/20 [00:54<00:06,  3.20s/it][I 2020-05-01 17:29:17,511] Finished trial#17 with value: 86.62 with parameters: {'num_leaves': 209}. Best is trial#16 with value: 86.4.\n",
      "\n",
      "\n",
      "tune_num_leaves, val_score: 86.400000:  90%|######################################7    | 18/20 [00:55<00:06,  3.20s/it]"
     ]
    },
    {
     "name": "stdout",
     "output_type": "stream",
     "text": [
      "Training until validation scores don't improve for 100 rounds\n",
      "Early stopping, best iteration is:\n",
      "[265]\tvalid_0's f1: 86.53\n"
     ]
    },
    {
     "name": "stderr",
     "output_type": "stream",
     "text": [
      "\n",
      "\n",
      "tune_num_leaves, val_score: 86.400000:  90%|######################################7    | 18/20 [00:58<00:06,  3.20s/it]\n",
      "\n",
      "tune_num_leaves, val_score: 86.400000:  95%|########################################8  | 19/20 [00:58<00:03,  3.31s/it][I 2020-05-01 17:29:21,085] Finished trial#18 with value: 86.53 with parameters: {'num_leaves': 212}. Best is trial#16 with value: 86.4.\n",
      "\n",
      "\n",
      "tune_num_leaves, val_score: 86.400000:  95%|########################################8  | 19/20 [00:58<00:03,  3.31s/it]"
     ]
    },
    {
     "name": "stdout",
     "output_type": "stream",
     "text": [
      "Training until validation scores don't improve for 100 rounds\n",
      "Early stopping, best iteration is:\n",
      "[260]\tvalid_0's f1: 86.43\n"
     ]
    },
    {
     "name": "stderr",
     "output_type": "stream",
     "text": [
      "\n",
      "\n",
      "tune_num_leaves, val_score: 86.400000:  95%|########################################8  | 19/20 [01:02<00:03,  3.31s/it]\n",
      "\n",
      "tune_num_leaves, val_score: 86.400000: 100%|###########################################| 20/20 [01:02<00:00,  3.42s/it][I 2020-05-01 17:29:24,747] Finished trial#19 with value: 86.43 with parameters: {'num_leaves': 251}. Best is trial#16 with value: 86.4.\n",
      "tune_num_leaves, val_score: 86.400000: 100%|###########################################| 20/20 [01:02<00:00,  3.11s/it]\n",
      "\n",
      "\n",
      "  0%|                                                                                           | 0/10 [00:00<?, ?it/s]\n",
      "\n",
      "tune_bagging_fraction_and_bagging_freq, val_score: 86.400000:   0%|                             | 0/10 [00:00<?, ?it/s]"
     ]
    },
    {
     "name": "stdout",
     "output_type": "stream",
     "text": [
      "Training until validation scores don't improve for 100 rounds\n",
      "Early stopping, best iteration is:\n",
      "[597]\tvalid_0's f1: 86.62\n"
     ]
    },
    {
     "name": "stderr",
     "output_type": "stream",
     "text": [
      "\n",
      "\n",
      "tune_bagging_fraction_and_bagging_freq, val_score: 86.400000:   0%|                             | 0/10 [00:06<?, ?it/s]\n",
      "\n",
      "tune_bagging_fraction_and_bagging_freq, val_score: 86.400000:  10%|##1                  | 1/10 [00:06<00:55,  6.21s/it][I 2020-05-01 17:29:31,045] Finished trial#0 with value: 86.62 with parameters: {'bagging_fraction': 0.41560560346641634, 'bagging_freq': 1}. Best is trial#0 with value: 86.62.\n",
      "\n",
      "\n",
      "tune_bagging_fraction_and_bagging_freq, val_score: 86.400000:  10%|##1                  | 1/10 [00:06<00:55,  6.21s/it]"
     ]
    },
    {
     "name": "stdout",
     "output_type": "stream",
     "text": [
      "Training until validation scores don't improve for 100 rounds\n",
      "Early stopping, best iteration is:\n",
      "[405]\tvalid_0's f1: 86.66\n"
     ]
    },
    {
     "name": "stderr",
     "output_type": "stream",
     "text": [
      "\n",
      "\n",
      "tune_bagging_fraction_and_bagging_freq, val_score: 86.400000:  10%|##1                  | 1/10 [00:10<00:55,  6.21s/it]\n",
      "\n",
      "tune_bagging_fraction_and_bagging_freq, val_score: 86.400000:  20%|####2                | 2/10 [00:10<00:45,  5.73s/it][I 2020-05-01 17:29:35,632] Finished trial#1 with value: 86.66 with parameters: {'bagging_fraction': 0.41469916151857417, 'bagging_freq': 3}. Best is trial#0 with value: 86.62.\n",
      "\n",
      "\n",
      "tune_bagging_fraction_and_bagging_freq, val_score: 86.400000:  20%|####2                | 2/10 [00:10<00:45,  5.73s/it]"
     ]
    },
    {
     "name": "stdout",
     "output_type": "stream",
     "text": [
      "Training until validation scores don't improve for 100 rounds\n",
      "Early stopping, best iteration is:\n",
      "[336]\tvalid_0's f1: 86.71\n"
     ]
    },
    {
     "name": "stderr",
     "output_type": "stream",
     "text": [
      "\n",
      "\n",
      "tune_bagging_fraction_and_bagging_freq, val_score: 86.400000:  20%|####2                | 2/10 [00:14<00:45,  5.73s/it]\n",
      "\n",
      "tune_bagging_fraction_and_bagging_freq, val_score: 86.400000:  30%|######3              | 3/10 [00:14<00:36,  5.22s/it][I 2020-05-01 17:29:39,660] Finished trial#2 with value: 86.71 with parameters: {'bagging_fraction': 0.5975970266721098, 'bagging_freq': 6}. Best is trial#0 with value: 86.62.\n",
      "\n",
      "\n",
      "tune_bagging_fraction_and_bagging_freq, val_score: 86.400000:  30%|######3              | 3/10 [00:14<00:36,  5.22s/it]"
     ]
    },
    {
     "name": "stdout",
     "output_type": "stream",
     "text": [
      "Training until validation scores don't improve for 100 rounds\n",
      "Early stopping, best iteration is:\n",
      "[425]\tvalid_0's f1: 86.45\n"
     ]
    },
    {
     "name": "stderr",
     "output_type": "stream",
     "text": [
      "\n",
      "\n",
      "tune_bagging_fraction_and_bagging_freq, val_score: 86.400000:  30%|######3              | 3/10 [00:19<00:36,  5.22s/it]\n",
      "\n",
      "tune_bagging_fraction_and_bagging_freq, val_score: 86.400000:  40%|########4            | 4/10 [00:19<00:30,  5.16s/it][I 2020-05-01 17:29:44,692] Finished trial#3 with value: 86.45 with parameters: {'bagging_fraction': 0.9233153638689787, 'bagging_freq': 2}. Best is trial#3 with value: 86.45.\n",
      "\n",
      "\n",
      "tune_bagging_fraction_and_bagging_freq, val_score: 86.400000:  40%|########4            | 4/10 [00:19<00:30,  5.16s/it]"
     ]
    },
    {
     "name": "stdout",
     "output_type": "stream",
     "text": [
      "Training until validation scores don't improve for 100 rounds\n",
      "Early stopping, best iteration is:\n",
      "[373]\tvalid_0's f1: 86.69\n"
     ]
    },
    {
     "name": "stderr",
     "output_type": "stream",
     "text": [
      "\n",
      "\n",
      "tune_bagging_fraction_and_bagging_freq, val_score: 86.400000:  40%|########4            | 4/10 [00:24<00:30,  5.16s/it]\n",
      "\n",
      "tune_bagging_fraction_and_bagging_freq, val_score: 86.400000:  50%|##########5          | 5/10 [00:24<00:24,  4.92s/it][I 2020-05-01 17:29:49,038] Finished trial#4 with value: 86.69 with parameters: {'bagging_fraction': 0.6132131345995807, 'bagging_freq': 3}. Best is trial#3 with value: 86.45.\n",
      "\n",
      "\n",
      "tune_bagging_fraction_and_bagging_freq, val_score: 86.400000:  50%|##########5          | 5/10 [00:24<00:24,  4.92s/it]"
     ]
    },
    {
     "name": "stdout",
     "output_type": "stream",
     "text": [
      "Training until validation scores don't improve for 100 rounds\n",
      "Early stopping, best iteration is:\n",
      "[349]\tvalid_0's f1: 86.69\n"
     ]
    },
    {
     "name": "stderr",
     "output_type": "stream",
     "text": [
      "\n",
      "\n",
      "tune_bagging_fraction_and_bagging_freq, val_score: 86.400000:  50%|##########5          | 5/10 [00:28<00:24,  4.92s/it]\n",
      "\n",
      "tune_bagging_fraction_and_bagging_freq, val_score: 86.400000:  60%|############6        | 6/10 [00:28<00:18,  4.67s/it][I 2020-05-01 17:29:53,159] Finished trial#5 with value: 86.69 with parameters: {'bagging_fraction': 0.6167001632454799, 'bagging_freq': 3}. Best is trial#3 with value: 86.45.\n",
      "\n",
      "\n",
      "tune_bagging_fraction_and_bagging_freq, val_score: 86.400000:  60%|############6        | 6/10 [00:28<00:18,  4.67s/it]"
     ]
    },
    {
     "name": "stdout",
     "output_type": "stream",
     "text": [
      "Training until validation scores don't improve for 100 rounds\n",
      "Early stopping, best iteration is:\n",
      "[336]\tvalid_0's f1: 86.73\n"
     ]
    },
    {
     "name": "stderr",
     "output_type": "stream",
     "text": [
      "\n",
      "\n",
      "tune_bagging_fraction_and_bagging_freq, val_score: 86.400000:  60%|############6        | 6/10 [00:32<00:18,  4.67s/it]\n",
      "\n",
      "tune_bagging_fraction_and_bagging_freq, val_score: 86.400000:  70%|##############7      | 7/10 [00:32<00:13,  4.49s/it][I 2020-05-01 17:29:57,201] Finished trial#6 with value: 86.73 with parameters: {'bagging_fraction': 0.5698280760500635, 'bagging_freq': 4}. Best is trial#3 with value: 86.45.\n",
      "\n",
      "\n",
      "tune_bagging_fraction_and_bagging_freq, val_score: 86.400000:  70%|##############7      | 7/10 [00:32<00:13,  4.49s/it]"
     ]
    },
    {
     "name": "stdout",
     "output_type": "stream",
     "text": [
      "Training until validation scores don't improve for 100 rounds\n",
      "Early stopping, best iteration is:\n",
      "[383]\tvalid_0's f1: 86.74\n"
     ]
    },
    {
     "name": "stderr",
     "output_type": "stream",
     "text": [
      "\n",
      "\n",
      "tune_bagging_fraction_and_bagging_freq, val_score: 86.400000:  70%|##############7      | 7/10 [00:37<00:13,  4.49s/it]\n",
      "\n",
      "tune_bagging_fraction_and_bagging_freq, val_score: 86.400000:  80%|################8    | 8/10 [00:37<00:09,  4.54s/it][I 2020-05-01 17:30:01,874] Finished trial#7 with value: 86.74 with parameters: {'bagging_fraction': 0.9133879213067078, 'bagging_freq': 7}. Best is trial#3 with value: 86.45.\n",
      "\n",
      "\n",
      "tune_bagging_fraction_and_bagging_freq, val_score: 86.400000:  80%|################8    | 8/10 [00:37<00:09,  4.54s/it]"
     ]
    },
    {
     "name": "stdout",
     "output_type": "stream",
     "text": [
      "Training until validation scores don't improve for 100 rounds\n",
      "Early stopping, best iteration is:\n",
      "[296]\tvalid_0's f1: 86.57\n"
     ]
    },
    {
     "name": "stderr",
     "output_type": "stream",
     "text": [
      "\n",
      "\n",
      "tune_bagging_fraction_and_bagging_freq, val_score: 86.400000:  80%|################8    | 8/10 [00:41<00:09,  4.54s/it]\n",
      "\n",
      "tune_bagging_fraction_and_bagging_freq, val_score: 86.400000:  90%|##################9  | 9/10 [00:41<00:04,  4.37s/it][I 2020-05-01 17:30:05,835] Finished trial#8 with value: 86.57 with parameters: {'bagging_fraction': 0.8712023285035699, 'bagging_freq': 3}. Best is trial#3 with value: 86.45.\n",
      "\n",
      "\n",
      "tune_bagging_fraction_and_bagging_freq, val_score: 86.400000:  90%|##################9  | 9/10 [00:41<00:04,  4.37s/it]"
     ]
    },
    {
     "name": "stdout",
     "output_type": "stream",
     "text": [
      "Training until validation scores don't improve for 100 rounds\n",
      "Early stopping, best iteration is:\n",
      "[415]\tvalid_0's f1: 86.67\n"
     ]
    },
    {
     "name": "stderr",
     "output_type": "stream",
     "text": [
      "\n",
      "\n",
      "tune_bagging_fraction_and_bagging_freq, val_score: 86.400000:  90%|##################9  | 9/10 [00:46<00:04,  4.37s/it]\n",
      "\n",
      "tune_bagging_fraction_and_bagging_freq, val_score: 86.400000: 100%|####################| 10/10 [00:46<00:00,  4.71s/it][I 2020-05-01 17:30:11,346] Finished trial#9 with value: 86.67 with parameters: {'bagging_fraction': 0.590084831306273, 'bagging_freq': 5}. Best is trial#3 with value: 86.45.\n",
      "tune_bagging_fraction_and_bagging_freq, val_score: 86.400000: 100%|####################| 10/10 [00:46<00:00,  4.66s/it]\n",
      "\n",
      "\n",
      "  0%|                                                                                            | 0/3 [00:00<?, ?it/s]\n",
      "\n",
      "tune_feature_fraction, val_score: 86.400000:   0%|                                               | 0/3 [00:00<?, ?it/s]"
     ]
    },
    {
     "name": "stdout",
     "output_type": "stream",
     "text": [
      "Training until validation scores don't improve for 100 rounds\n",
      "Early stopping, best iteration is:\n",
      "[510]\tvalid_0's f1: 86.7\n"
     ]
    },
    {
     "name": "stderr",
     "output_type": "stream",
     "text": [
      "\n",
      "\n",
      "tune_feature_fraction, val_score: 86.400000:   0%|                                               | 0/3 [00:06<?, ?it/s]\n",
      "\n",
      "tune_feature_fraction, val_score: 86.400000:  33%|#############                          | 1/3 [00:06<00:12,  6.08s/it][I 2020-05-01 17:30:17,506] Finished trial#0 with value: 86.7 with parameters: {'feature_fraction': 0.92}. Best is trial#0 with value: 86.7.\n",
      "\n",
      "\n",
      "tune_feature_fraction, val_score: 86.400000:  33%|#############                          | 1/3 [00:06<00:12,  6.08s/it]"
     ]
    },
    {
     "name": "stdout",
     "output_type": "stream",
     "text": [
      "Training until validation scores don't improve for 100 rounds\n",
      "Early stopping, best iteration is:\n",
      "[221]\tvalid_0's f1: 86.4\n"
     ]
    },
    {
     "name": "stderr",
     "output_type": "stream",
     "text": [
      "\n",
      "\n",
      "tune_feature_fraction, val_score: 86.400000:  33%|#############                          | 1/3 [00:09<00:12,  6.08s/it]\n",
      "\n",
      "tune_feature_fraction, val_score: 86.400000:  67%|##########################             | 2/3 [00:09<00:05,  5.26s/it][I 2020-05-01 17:30:20,852] Finished trial#1 with value: 86.4 with parameters: {'feature_fraction': 0.9520000000000001}. Best is trial#1 with value: 86.4.\n",
      "\n",
      "\n",
      "tune_feature_fraction, val_score: 86.400000:  67%|##########################             | 2/3 [00:09<00:05,  5.26s/it]"
     ]
    },
    {
     "name": "stdout",
     "output_type": "stream",
     "text": [
      "Training until validation scores don't improve for 100 rounds\n",
      "Early stopping, best iteration is:\n",
      "[221]\tvalid_0's f1: 86.4\n"
     ]
    },
    {
     "name": "stderr",
     "output_type": "stream",
     "text": [
      "\n",
      "\n",
      "tune_feature_fraction, val_score: 86.400000:  67%|##########################             | 2/3 [00:12<00:05,  5.26s/it]\n",
      "\n",
      "tune_feature_fraction, val_score: 86.400000: 100%|#######################################| 3/3 [00:12<00:00,  4.60s/it][I 2020-05-01 17:30:23,926] Finished trial#2 with value: 86.4 with parameters: {'feature_fraction': 0.9840000000000001}. Best is trial#1 with value: 86.4.\n",
      "tune_feature_fraction, val_score: 86.400000: 100%|#######################################| 3/3 [00:12<00:00,  4.19s/it]\n",
      "\n",
      "\n",
      "  0%|                                                                                           | 0/20 [00:00<?, ?it/s]\n",
      "\n",
      "tune_lambda_l1_and_lambda_l2, val_score: 86.400000:   0%|                                       | 0/20 [00:00<?, ?it/s]"
     ]
    },
    {
     "name": "stdout",
     "output_type": "stream",
     "text": [
      "Training until validation scores don't improve for 100 rounds\n",
      "Early stopping, best iteration is:\n",
      "[296]\tvalid_0's f1: 86.7\n"
     ]
    },
    {
     "name": "stderr",
     "output_type": "stream",
     "text": [
      "\n",
      "\n",
      "tune_lambda_l1_and_lambda_l2, val_score: 86.400000:   0%|                                       | 0/20 [00:03<?, ?it/s]\n",
      "\n",
      "tune_lambda_l1_and_lambda_l2, val_score: 86.400000:   5%|#5                             | 1/20 [00:03<01:13,  3.87s/it][I 2020-05-01 17:30:27,882] Finished trial#0 with value: 86.7 with parameters: {'lambda_l1': 0.0050010926085478245, 'lambda_l2': 0.009818704904037946}. Best is trial#0 with value: 86.7.\n",
      "\n",
      "\n",
      "tune_lambda_l1_and_lambda_l2, val_score: 86.400000:   5%|#5                             | 1/20 [00:03<01:13,  3.87s/it]"
     ]
    },
    {
     "name": "stdout",
     "output_type": "stream",
     "text": [
      "Training until validation scores don't improve for 100 rounds\n",
      "Early stopping, best iteration is:\n",
      "[288]\tvalid_0's f1: 86.5\n"
     ]
    },
    {
     "name": "stderr",
     "output_type": "stream",
     "text": [
      "\n",
      "\n",
      "tune_lambda_l1_and_lambda_l2, val_score: 86.400000:   5%|#5                             | 1/20 [00:07<01:13,  3.87s/it]\n",
      "\n",
      "tune_lambda_l1_and_lambda_l2, val_score: 86.400000:  10%|###1                           | 2/20 [00:07<01:08,  3.79s/it][I 2020-05-01 17:30:31,469] Finished trial#1 with value: 86.5 with parameters: {'lambda_l1': 6.945298220402805e-08, 'lambda_l2': 0.20102380267918213}. Best is trial#1 with value: 86.5.\n",
      "\n",
      "\n",
      "tune_lambda_l1_and_lambda_l2, val_score: 86.400000:  10%|###1                           | 2/20 [00:07<01:08,  3.79s/it]"
     ]
    },
    {
     "name": "stdout",
     "output_type": "stream",
     "text": [
      "Training until validation scores don't improve for 100 rounds\n",
      "Early stopping, best iteration is:\n",
      "[600]\tvalid_0's f1: 87.16\n"
     ]
    },
    {
     "name": "stderr",
     "output_type": "stream",
     "text": [
      "\n",
      "\n",
      "tune_lambda_l1_and_lambda_l2, val_score: 86.400000:  10%|###1                           | 2/20 [00:12<01:08,  3.79s/it]\n",
      "\n",
      "tune_lambda_l1_and_lambda_l2, val_score: 86.400000:  15%|####6                          | 3/20 [00:12<01:12,  4.28s/it][I 2020-05-01 17:30:36,895] Finished trial#2 with value: 87.16 with parameters: {'lambda_l1': 4.101876658634524, 'lambda_l2': 2.254609879435428e-06}. Best is trial#1 with value: 86.5.\n",
      "\n",
      "\n",
      "tune_lambda_l1_and_lambda_l2, val_score: 86.400000:  15%|####6                          | 3/20 [00:12<01:12,  4.28s/it]"
     ]
    },
    {
     "name": "stdout",
     "output_type": "stream",
     "text": [
      "Training until validation scores don't improve for 100 rounds\n",
      "Early stopping, best iteration is:\n",
      "[280]\tvalid_0's f1: 86.51\n"
     ]
    },
    {
     "name": "stderr",
     "output_type": "stream",
     "text": [
      "\n",
      "\n",
      "tune_lambda_l1_and_lambda_l2, val_score: 86.400000:  15%|####6                          | 3/20 [00:16<01:12,  4.28s/it]\n",
      "\n",
      "tune_lambda_l1_and_lambda_l2, val_score: 86.400000:  20%|######2                        | 4/20 [00:16<01:04,  4.06s/it][I 2020-05-01 17:30:40,439] Finished trial#3 with value: 86.51 with parameters: {'lambda_l1': 0.3771660685467479, 'lambda_l2': 0.867943343440385}. Best is trial#1 with value: 86.5.\n",
      "\n",
      "\n",
      "tune_lambda_l1_and_lambda_l2, val_score: 86.400000:  20%|######2                        | 4/20 [00:16<01:04,  4.06s/it]"
     ]
    },
    {
     "name": "stdout",
     "output_type": "stream",
     "text": [
      "Training until validation scores don't improve for 100 rounds\n",
      "Early stopping, best iteration is:\n",
      "[270]\tvalid_0's f1: 86.67\n"
     ]
    },
    {
     "name": "stderr",
     "output_type": "stream",
     "text": [
      "\n",
      "\n",
      "tune_lambda_l1_and_lambda_l2, val_score: 86.400000:  20%|######2                        | 4/20 [00:19<01:04,  4.06s/it]\n",
      "\n",
      "tune_lambda_l1_and_lambda_l2, val_score: 86.400000:  25%|#######7                       | 5/20 [00:19<00:58,  3.91s/it][I 2020-05-01 17:30:43,987] Finished trial#4 with value: 86.67 with parameters: {'lambda_l1': 0.7667612370992554, 'lambda_l2': 1.2064035232068027e-07}. Best is trial#1 with value: 86.5.\n",
      "\n",
      "\n",
      "tune_lambda_l1_and_lambda_l2, val_score: 86.400000:  25%|#######7                       | 5/20 [00:20<00:58,  3.91s/it]"
     ]
    },
    {
     "name": "stdout",
     "output_type": "stream",
     "text": [
      "Training until validation scores don't improve for 100 rounds\n",
      "Early stopping, best iteration is:\n",
      "[256]\tvalid_0's f1: 86.55\n"
     ]
    },
    {
     "name": "stderr",
     "output_type": "stream",
     "text": [
      "\n",
      "\n",
      "tune_lambda_l1_and_lambda_l2, val_score: 86.400000:  25%|#######7                       | 5/20 [00:23<00:58,  3.91s/it]\n",
      "\n",
      "tune_lambda_l1_and_lambda_l2, val_score: 86.400000:  30%|#########2                     | 6/20 [00:23<00:53,  3.79s/it][I 2020-05-01 17:30:47,497] Finished trial#5 with value: 86.55 with parameters: {'lambda_l1': 1.2122958238158278e-06, 'lambda_l2': 0.012862807310515178}. Best is trial#1 with value: 86.5.\n",
      "\n",
      "\n",
      "tune_lambda_l1_and_lambda_l2, val_score: 86.400000:  30%|#########2                     | 6/20 [00:23<00:53,  3.79s/it]"
     ]
    },
    {
     "name": "stdout",
     "output_type": "stream",
     "text": [
      "Training until validation scores don't improve for 100 rounds\n",
      "Early stopping, best iteration is:\n",
      "[266]\tvalid_0's f1: 86.44\n"
     ]
    },
    {
     "name": "stderr",
     "output_type": "stream",
     "text": [
      "\n",
      "\n",
      "tune_lambda_l1_and_lambda_l2, val_score: 86.400000:  30%|#########2                     | 6/20 [00:26<00:53,  3.79s/it]\n",
      "\n",
      "tune_lambda_l1_and_lambda_l2, val_score: 86.400000:  35%|##########8                    | 7/20 [00:26<00:48,  3.70s/it][I 2020-05-01 17:30:50,983] Finished trial#6 with value: 86.44 with parameters: {'lambda_l1': 0.00010728997058221929, 'lambda_l2': 2.1572162389518972e-07}. Best is trial#6 with value: 86.44.\n",
      "\n",
      "\n",
      "tune_lambda_l1_and_lambda_l2, val_score: 86.400000:  35%|##########8                    | 7/20 [00:27<00:48,  3.70s/it]"
     ]
    },
    {
     "name": "stdout",
     "output_type": "stream",
     "text": [
      "Training until validation scores don't improve for 100 rounds\n",
      "Early stopping, best iteration is:\n",
      "[273]\tvalid_0's f1: 86.47\n"
     ]
    },
    {
     "name": "stderr",
     "output_type": "stream",
     "text": [
      "\n",
      "\n",
      "tune_lambda_l1_and_lambda_l2, val_score: 86.400000:  35%|##########8                    | 7/20 [00:30<00:48,  3.70s/it]\n",
      "\n",
      "tune_lambda_l1_and_lambda_l2, val_score: 86.400000:  40%|############4                  | 8/20 [00:30<00:43,  3.64s/it][I 2020-05-01 17:30:54,500] Finished trial#7 with value: 86.47 with parameters: {'lambda_l1': 3.5146196816988724e-05, 'lambda_l2': 3.529296226138756e-06}. Best is trial#6 with value: 86.44.\n",
      "\n",
      "\n",
      "tune_lambda_l1_and_lambda_l2, val_score: 86.400000:  40%|############4                  | 8/20 [00:30<00:43,  3.64s/it]"
     ]
    },
    {
     "name": "stdout",
     "output_type": "stream",
     "text": [
      "Training until validation scores don't improve for 100 rounds\n",
      "Early stopping, best iteration is:\n",
      "[221]\tvalid_0's f1: 86.4\n"
     ]
    },
    {
     "name": "stderr",
     "output_type": "stream",
     "text": [
      "\n",
      "\n",
      "tune_lambda_l1_and_lambda_l2, val_score: 86.400000:  40%|############4                  | 8/20 [00:33<00:43,  3.64s/it]\n",
      "\n",
      "tune_lambda_l1_and_lambda_l2, val_score: 86.400000:  45%|#############9                 | 9/20 [00:33<00:37,  3.45s/it][I 2020-05-01 17:30:57,505] Finished trial#8 with value: 86.4 with parameters: {'lambda_l1': 1.2185342271819772e-07, 'lambda_l2': 1.0447030562798398e-05}. Best is trial#8 with value: 86.4.\n",
      "\n",
      "\n",
      "tune_lambda_l1_and_lambda_l2, val_score: 86.400000:  45%|#############9                 | 9/20 [00:33<00:37,  3.45s/it]"
     ]
    },
    {
     "name": "stdout",
     "output_type": "stream",
     "text": [
      "Training until validation scores don't improve for 100 rounds\n",
      "Early stopping, best iteration is:\n",
      "[487]\tvalid_0's f1: 87.05\n"
     ]
    },
    {
     "name": "stderr",
     "output_type": "stream",
     "text": [
      "\n",
      "\n",
      "tune_lambda_l1_and_lambda_l2, val_score: 86.400000:  45%|#############9                 | 9/20 [00:38<00:37,  3.45s/it]\n",
      "\n",
      "tune_lambda_l1_and_lambda_l2, val_score: 86.400000:  50%|###############               | 10/20 [00:38<00:38,  3.89s/it][I 2020-05-01 17:31:02,423] Finished trial#9 with value: 87.05 with parameters: {'lambda_l1': 2.7377447077547212, 'lambda_l2': 6.91387710746705e-05}. Best is trial#8 with value: 86.4.\n",
      "\n",
      "\n",
      "tune_lambda_l1_and_lambda_l2, val_score: 86.400000:  50%|###############               | 10/20 [00:38<00:38,  3.89s/it]"
     ]
    },
    {
     "name": "stdout",
     "output_type": "stream",
     "text": [
      "Training until validation scores don't improve for 100 rounds\n",
      "Early stopping, best iteration is:\n",
      "[279]\tvalid_0's f1: 86.51\n"
     ]
    },
    {
     "name": "stderr",
     "output_type": "stream",
     "text": [
      "\n",
      "\n",
      "tune_lambda_l1_and_lambda_l2, val_score: 86.400000:  50%|###############               | 10/20 [00:41<00:38,  3.89s/it]\n",
      "\n",
      "tune_lambda_l1_and_lambda_l2, val_score: 86.400000:  55%|################5             | 11/20 [00:41<00:33,  3.78s/it][I 2020-05-01 17:31:05,927] Finished trial#10 with value: 86.51 with parameters: {'lambda_l1': 1.552606845515317e-08, 'lambda_l2': 0.0003667863568815204}. Best is trial#8 with value: 86.4.\n",
      "\n",
      "\n",
      "tune_lambda_l1_and_lambda_l2, val_score: 86.400000:  55%|################5             | 11/20 [00:41<00:33,  3.78s/it]"
     ]
    },
    {
     "name": "stdout",
     "output_type": "stream",
     "text": [
      "Training until validation scores don't improve for 100 rounds\n",
      "Early stopping, best iteration is:\n",
      "[251]\tvalid_0's f1: 86.63\n"
     ]
    },
    {
     "name": "stderr",
     "output_type": "stream",
     "text": [
      "\n",
      "\n",
      "tune_lambda_l1_and_lambda_l2, val_score: 86.400000:  55%|################5             | 11/20 [00:45<00:33,  3.78s/it]\n",
      "\n",
      "tune_lambda_l1_and_lambda_l2, val_score: 86.400000:  60%|##################            | 12/20 [00:45<00:28,  3.62s/it][I 2020-05-01 17:31:09,195] Finished trial#11 with value: 86.63 with parameters: {'lambda_l1': 0.00046121754399221454, 'lambda_l2': 4.347439963101839e-08}. Best is trial#8 with value: 86.4.\n",
      "\n",
      "\n",
      "tune_lambda_l1_and_lambda_l2, val_score: 86.400000:  60%|##################            | 12/20 [00:45<00:28,  3.62s/it]"
     ]
    },
    {
     "name": "stdout",
     "output_type": "stream",
     "text": [
      "Training until validation scores don't improve for 100 rounds\n",
      "Early stopping, best iteration is:\n",
      "[255]\tvalid_0's f1: 86.65\n"
     ]
    },
    {
     "name": "stderr",
     "output_type": "stream",
     "text": [
      "\n",
      "\n",
      "tune_lambda_l1_and_lambda_l2, val_score: 86.400000:  60%|##################            | 12/20 [00:48<00:28,  3.62s/it]\n",
      "\n",
      "tune_lambda_l1_and_lambda_l2, val_score: 86.400000:  65%|###################5          | 13/20 [00:48<00:24,  3.51s/it][I 2020-05-01 17:31:12,455] Finished trial#12 with value: 86.65 with parameters: {'lambda_l1': 1.0336467542959015e-05, 'lambda_l2': 8.041541431842127e-07}. Best is trial#8 with value: 86.4.\n",
      "\n",
      "\n",
      "tune_lambda_l1_and_lambda_l2, val_score: 86.400000:  65%|###################5          | 13/20 [00:48<00:24,  3.51s/it]"
     ]
    },
    {
     "name": "stdout",
     "output_type": "stream",
     "text": [
      "Training until validation scores don't improve for 100 rounds\n",
      "Early stopping, best iteration is:\n",
      "[283]\tvalid_0's f1: 86.43\n"
     ]
    },
    {
     "name": "stderr",
     "output_type": "stream",
     "text": [
      "\n",
      "\n",
      "tune_lambda_l1_and_lambda_l2, val_score: 86.400000:  65%|###################5          | 13/20 [00:51<00:24,  3.51s/it]\n",
      "\n",
      "tune_lambda_l1_and_lambda_l2, val_score: 86.400000:  70%|#####################         | 14/20 [00:51<00:21,  3.50s/it][I 2020-05-01 17:31:15,932] Finished trial#13 with value: 86.43 with parameters: {'lambda_l1': 0.009919985536730267, 'lambda_l2': 0.00010359968405889214}. Best is trial#8 with value: 86.4.\n",
      "\n",
      "\n",
      "tune_lambda_l1_and_lambda_l2, val_score: 86.400000:  70%|#####################         | 14/20 [00:52<00:21,  3.50s/it]"
     ]
    },
    {
     "name": "stdout",
     "output_type": "stream",
     "text": [
      "Training until validation scores don't improve for 100 rounds\n",
      "Early stopping, best iteration is:\n",
      "[265]\tvalid_0's f1: 86.56\n"
     ]
    },
    {
     "name": "stderr",
     "output_type": "stream",
     "text": [
      "\n",
      "\n",
      "tune_lambda_l1_and_lambda_l2, val_score: 86.400000:  70%|#####################         | 14/20 [00:55<00:21,  3.50s/it]\n",
      "\n",
      "tune_lambda_l1_and_lambda_l2, val_score: 86.400000:  75%|######################5       | 15/20 [00:55<00:17,  3.46s/it][I 2020-05-01 17:31:19,312] Finished trial#14 with value: 86.56 with parameters: {'lambda_l1': 0.010346570660599705, 'lambda_l2': 0.00010210563086450357}. Best is trial#8 with value: 86.4.\n",
      "\n",
      "\n",
      "tune_lambda_l1_and_lambda_l2, val_score: 86.400000:  75%|######################5       | 15/20 [00:55<00:17,  3.46s/it]"
     ]
    },
    {
     "name": "stdout",
     "output_type": "stream",
     "text": [
      "Training until validation scores don't improve for 100 rounds\n",
      "Early stopping, best iteration is:\n",
      "[258]\tvalid_0's f1: 86.61\n"
     ]
    },
    {
     "name": "stderr",
     "output_type": "stream",
     "text": [
      "\n",
      "\n",
      "tune_lambda_l1_and_lambda_l2, val_score: 86.400000:  75%|######################5       | 15/20 [00:58<00:17,  3.46s/it]\n",
      "\n",
      "tune_lambda_l1_and_lambda_l2, val_score: 86.400000:  80%|########################      | 16/20 [00:58<00:13,  3.41s/it][I 2020-05-01 17:31:22,589] Finished trial#15 with value: 86.61 with parameters: {'lambda_l1': 0.03163183294518883, 'lambda_l2': 1.1172157358799965e-05}. Best is trial#8 with value: 86.4.\n",
      "\n",
      "\n",
      "tune_lambda_l1_and_lambda_l2, val_score: 86.400000:  80%|########################      | 16/20 [00:58<00:13,  3.41s/it]"
     ]
    },
    {
     "name": "stdout",
     "output_type": "stream",
     "text": [
      "Training until validation scores don't improve for 100 rounds\n",
      "Early stopping, best iteration is:\n",
      "[235]\tvalid_0's f1: 86.58\n"
     ]
    },
    {
     "name": "stderr",
     "output_type": "stream",
     "text": [
      "\n",
      "\n",
      "tune_lambda_l1_and_lambda_l2, val_score: 86.400000:  80%|########################      | 16/20 [01:01<00:13,  3.41s/it]\n",
      "\n",
      "tune_lambda_l1_and_lambda_l2, val_score: 86.400000:  85%|#########################5    | 17/20 [01:01<00:09,  3.30s/it][I 2020-05-01 17:31:25,642] Finished trial#16 with value: 86.58 with parameters: {'lambda_l1': 8.074860647178466e-07, 'lambda_l2': 0.0012369456551904257}. Best is trial#8 with value: 86.4.\n",
      "\n",
      "\n",
      "tune_lambda_l1_and_lambda_l2, val_score: 86.400000:  85%|#########################5    | 17/20 [01:01<00:09,  3.30s/it]"
     ]
    },
    {
     "name": "stdout",
     "output_type": "stream",
     "text": [
      "Training until validation scores don't improve for 100 rounds\n",
      "Early stopping, best iteration is:\n",
      "[281]\tvalid_0's f1: 86.45\n"
     ]
    },
    {
     "name": "stderr",
     "output_type": "stream",
     "text": [
      "\n",
      "\n",
      "tune_lambda_l1_and_lambda_l2, val_score: 86.400000:  85%|#########################5    | 17/20 [01:05<00:09,  3.30s/it]\n",
      "\n",
      "tune_lambda_l1_and_lambda_l2, val_score: 86.400000:  90%|###########################   | 18/20 [01:05<00:06,  3.40s/it][I 2020-05-01 17:31:29,260] Finished trial#17 with value: 86.45 with parameters: {'lambda_l1': 0.0015380138735994694, 'lambda_l2': 1.0261625634903355e-08}. Best is trial#8 with value: 86.4.\n",
      "\n",
      "\n",
      "tune_lambda_l1_and_lambda_l2, val_score: 86.400000:  90%|###########################   | 18/20 [01:05<00:06,  3.40s/it]"
     ]
    },
    {
     "name": "stdout",
     "output_type": "stream",
     "text": [
      "Training until validation scores don't improve for 100 rounds\n",
      "Early stopping, best iteration is:\n",
      "[299]\tvalid_0's f1: 86.39\n"
     ]
    },
    {
     "name": "stderr",
     "output_type": "stream",
     "text": [
      "\n",
      "\n",
      "tune_lambda_l1_and_lambda_l2, val_score: 86.390000:  90%|###########################   | 18/20 [01:09<00:06,  3.40s/it]\n",
      "\n",
      "tune_lambda_l1_and_lambda_l2, val_score: 86.390000:  95%|############################5 | 19/20 [01:09<00:03,  3.53s/it][I 2020-05-01 17:31:33,108] Finished trial#18 with value: 86.39 with parameters: {'lambda_l1': 0.04760454151842709, 'lambda_l2': 2.338663818463133e-05}. Best is trial#18 with value: 86.39.\n",
      "\n",
      "\n",
      "tune_lambda_l1_and_lambda_l2, val_score: 86.390000:  95%|############################5 | 19/20 [01:09<00:03,  3.53s/it]"
     ]
    },
    {
     "name": "stdout",
     "output_type": "stream",
     "text": [
      "Training until validation scores don't improve for 100 rounds\n",
      "Early stopping, best iteration is:\n",
      "[274]\tvalid_0's f1: 86.57\n"
     ]
    },
    {
     "name": "stderr",
     "output_type": "stream",
     "text": [
      "\n",
      "\n",
      "tune_lambda_l1_and_lambda_l2, val_score: 86.390000:  95%|############################5 | 19/20 [01:12<00:03,  3.53s/it]\n",
      "\n",
      "tune_lambda_l1_and_lambda_l2, val_score: 86.390000: 100%|##############################| 20/20 [01:12<00:00,  3.54s/it][I 2020-05-01 17:31:36,654] Finished trial#19 with value: 86.57 with parameters: {'lambda_l1': 0.03956837904097592, 'lambda_l2': 1.439806042335532e-05}. Best is trial#18 with value: 86.39.\n",
      "tune_lambda_l1_and_lambda_l2, val_score: 86.390000: 100%|##############################| 20/20 [01:12<00:00,  3.64s/it]\n",
      "\n",
      "\n",
      "  0%|                                                                                            | 0/5 [00:00<?, ?it/s]\n",
      "\n",
      "tune_min_child_samples, val_score: 86.390000:   0%|                                              | 0/5 [00:00<?, ?it/s]"
     ]
    },
    {
     "name": "stdout",
     "output_type": "stream",
     "text": [
      "Training until validation scores don't improve for 100 rounds\n",
      "Early stopping, best iteration is:\n",
      "[288]\tvalid_0's f1: 86.2\n"
     ]
    },
    {
     "name": "stderr",
     "output_type": "stream",
     "text": [
      "\n",
      "\n",
      "tune_min_child_samples, val_score: 86.200000:   0%|                                              | 0/5 [00:03<?, ?it/s]\n",
      "\n",
      "tune_min_child_samples, val_score: 86.200000:  20%|#######6                              | 1/5 [00:03<00:15,  3.87s/it][I 2020-05-01 17:31:40,608] Finished trial#0 with value: 86.2 with parameters: {'min_child_samples': 5}. Best is trial#0 with value: 86.2.\n",
      "\n",
      "\n",
      "tune_min_child_samples, val_score: 86.200000:  20%|#######6                              | 1/5 [00:03<00:15,  3.87s/it]"
     ]
    },
    {
     "name": "stdout",
     "output_type": "stream",
     "text": [
      "Training until validation scores don't improve for 100 rounds\n",
      "Early stopping, best iteration is:\n",
      "[380]\tvalid_0's f1: 86.27\n"
     ]
    },
    {
     "name": "stderr",
     "output_type": "stream",
     "text": [
      "\n",
      "\n",
      "tune_min_child_samples, val_score: 86.200000:  20%|#######6                              | 1/5 [00:08<00:15,  3.87s/it]\n",
      "\n",
      "tune_min_child_samples, val_score: 86.200000:  40%|###############2                      | 2/5 [00:08<00:12,  4.09s/it][I 2020-05-01 17:31:45,218] Finished trial#1 with value: 86.27 with parameters: {'min_child_samples': 10}. Best is trial#0 with value: 86.2.\n",
      "\n",
      "\n",
      "tune_min_child_samples, val_score: 86.200000:  40%|###############2                      | 2/5 [00:08<00:12,  4.09s/it]"
     ]
    },
    {
     "name": "stdout",
     "output_type": "stream",
     "text": [
      "Training until validation scores don't improve for 100 rounds\n",
      "Early stopping, best iteration is:\n",
      "[285]\tvalid_0's f1: 86.57\n"
     ]
    },
    {
     "name": "stderr",
     "output_type": "stream",
     "text": [
      "\n",
      "\n",
      "tune_min_child_samples, val_score: 86.200000:  40%|###############2                      | 2/5 [00:12<00:12,  4.09s/it]\n",
      "\n",
      "tune_min_child_samples, val_score: 86.200000:  60%|######################8               | 3/5 [00:12<00:07,  3.97s/it][I 2020-05-01 17:31:48,909] Finished trial#2 with value: 86.57 with parameters: {'min_child_samples': 25}. Best is trial#0 with value: 86.2.\n",
      "\n",
      "\n",
      "tune_min_child_samples, val_score: 86.200000:  60%|######################8               | 3/5 [00:12<00:07,  3.97s/it]"
     ]
    },
    {
     "name": "stdout",
     "output_type": "stream",
     "text": [
      "Training until validation scores don't improve for 100 rounds\n",
      "Early stopping, best iteration is:\n",
      "[478]\tvalid_0's f1: 86.74\n"
     ]
    },
    {
     "name": "stderr",
     "output_type": "stream",
     "text": [
      "\n",
      "\n",
      "tune_min_child_samples, val_score: 86.200000:  60%|######################8               | 3/5 [00:17<00:07,  3.97s/it]\n",
      "\n",
      "tune_min_child_samples, val_score: 86.200000:  80%|##############################4       | 4/5 [00:17<00:04,  4.45s/it][I 2020-05-01 17:31:54,464] Finished trial#3 with value: 86.74 with parameters: {'min_child_samples': 50}. Best is trial#0 with value: 86.2.\n",
      "\n",
      "\n",
      "tune_min_child_samples, val_score: 86.200000:  80%|##############################4       | 4/5 [00:17<00:04,  4.45s/it]"
     ]
    },
    {
     "name": "stdout",
     "output_type": "stream",
     "text": [
      "Training until validation scores don't improve for 100 rounds\n",
      "Early stopping, best iteration is:\n",
      "[585]\tvalid_0's f1: 86.73\n"
     ]
    },
    {
     "name": "stderr",
     "output_type": "stream",
     "text": [
      "\n",
      "\n",
      "tune_min_child_samples, val_score: 86.200000:  80%|##############################4       | 4/5 [00:23<00:04,  4.45s/it]\n",
      "\n",
      "tune_min_child_samples, val_score: 86.200000: 100%|######################################| 5/5 [00:23<00:00,  4.85s/it][I 2020-05-01 17:32:00,269] Finished trial#4 with value: 86.73 with parameters: {'min_child_samples': 100}. Best is trial#0 with value: 86.2.\n",
      "tune_min_child_samples, val_score: 86.200000: 100%|######################################| 5/5 [00:23<00:00,  4.72s/it]\n"
     ]
    },
    {
     "name": "stdout",
     "output_type": "stream",
     "text": [
      "{'lambda_l1': 0.04760454151842709, 'lambda_l2': 2.338663818463133e-05, 'num_leaves': 201, 'feature_fraction': 1.0, 'bagging_fraction': 1.0, 'bagging_freq': 0, 'min_child_samples': 5}\n"
     ]
    }
   ],
   "source": [
    "# tune with optunalgb\n",
    "parameters = {\n",
    "    'metric': 'f1',\n",
    "    'learning_rate': 0.01,\n",
    "    'verbose': 0,\n",
    "}\n",
    "\n",
    "evals_result = {}\n",
    "best_params, tuning_history = dict(), list()\n",
    "model = optunalgb.train(parameters,\n",
    "                       x_train,\n",
    "                       valid_sets=x_valid,\n",
    "                       num_boost_round=1000,\n",
    "                       early_stopping_rounds=100,\n",
    "                       feval=lgb_f1_score,\n",
    "                       evals_result=evals_result,\n",
    "                       best_params=best_params,\n",
    "                       tuning_history=tuning_history,\n",
    "                       verbose_eval=1000)\n",
    "lgb.plot_metric(evals_result, metric='f1')\n",
    "print(best_params)"
   ]
  },
  {
   "cell_type": "code",
   "execution_count": 72,
   "metadata": {},
   "outputs": [
    {
     "name": "stdout",
     "output_type": "stream",
     "text": [
      "{'metric': 'f1', 'learning_rate': 0.005, 'verbose': 0, 'feature_fraction': 0.6, 'num_leaves': 43, 'lambda_l1': 2.7377447077547212, 'lambda_l2': 6.91387710746705e-05}\n",
      "Training until validation scores don't improve for 3000 rounds\n",
      "[2000]\tvalid_0's f1: 87.1\n",
      "[4000]\tvalid_0's f1: 87.05\n",
      "Early stopping, best iteration is:\n",
      "[1106]\tvalid_0's f1: 87.35\n"
     ]
    },
    {
     "data": {
      "text/plain": [
       "<matplotlib.axes._subplots.AxesSubplot at 0x2251946c548>"
      ]
     },
     "execution_count": 72,
     "metadata": {},
     "output_type": "execute_result"
    },
    {
     "data": {
      "image/png": "[encoded data removed]",
      "text/plain": [
       "<Figure size 432x288 with 1 Axes>"
      ]
     },
     "metadata": {
      "needs_background": "light"
     },
     "output_type": "display_data"
    }
   ],
   "source": [
    "parameters = {\n",
    "    'metric': 'f1',\n",
    "    'learning_rate': 0.005,\n",
    "    'verbose': 0,\n",
    "    'feature_fraction': 0.6,\n",
    "    'num_leaves': 43,\n",
    "    'lambda_l1': 2.7377447077547212, 'lambda_l2': 6.91387710746705e-05\n",
    "}\n",
    "#parameters = {**parameters, **best_params}\n",
    "print(parameters)\n",
    "evals_result = {}\n",
    "model = lgb.train(parameters,\n",
    "                       x_train,\n",
    "                       valid_sets=x_valid,\n",
    "                       num_boost_round=30000,\n",
    "                       early_stopping_rounds=3000,\n",
    "                       feval=lgb_f1_score,\n",
    "                       evals_result=evals_result,\n",
    "                       verbose_eval=2000)\n",
    "lgb.plot_metric(evals_result, metric='f1')\n"
   ]
  },
  {
   "cell_type": "code",
   "execution_count": 73,
   "metadata": {},
   "outputs": [
    {
     "name": "stdout",
     "output_type": "stream",
     "text": [
      "[0. 0. 0. 0. 0.]\n"
     ]
    }
   ],
   "source": [
    "y_pred = np.round(model.predict(x_test))\n",
    "print(y_pred[:5])"
   ]
  },
  {
   "cell_type": "code",
   "execution_count": 74,
   "metadata": {},
   "outputs": [
    {
     "data": {
      "text/plain": [
       "<matplotlib.axes._subplots.AxesSubplot at 0x22519529808>"
      ]
     },
     "execution_count": 74,
     "metadata": {},
     "output_type": "execute_result"
    },
    {
     "data": {
      "image/png": "[encoded data removed]",
      "text/plain": [
       "<Figure size 432x288 with 1 Axes>"
      ]
     },
     "metadata": {
      "needs_background": "light"
     },
     "output_type": "display_data"
    }
   ],
   "source": [
    "lgb.plot_importance(model)"
   ]
  },
  {
   "cell_type": "code",
   "execution_count": null,
   "metadata": {},
   "outputs": [],
   "source": []
  }
 ],
 "metadata": {
  "kernelspec": {
   "display_name": "Python 3",
   "language": "python",
   "name": "python3"
  },
  "language_info": {
   "codemirror_mode": {
    "name": "ipython",
    "version": 3
   },
   "file_extension": ".py",
   "mimetype": "text/x-python",
   "name": "python",
   "nbconvert_exporter": "python",
   "pygments_lexer": "ipython3",
   "version": "3.7.4"
  }
 },
 "nbformat": 4,
 "nbformat_minor": 4
}
